{
 "cells": [
  {
   "cell_type": "markdown",
   "metadata": {},
   "source": [
    "## 轉換資料格式"
   ]
  },
  {
   "cell_type": "code",
   "execution_count": 5,
   "metadata": {},
   "outputs": [],
   "source": [
    "import pandas as pd\n",
    "import os\n",
    "\n",
    "def convert_IMDB_to_csv(directory, csv_file_path):\n",
    "    data = []\n",
    "    labels = []\n",
    "    for label in ['pos', 'neg']: # 讀取標籤資料\n",
    "        for subset in ['train', 'test']: # 讀取訓練和測試資料\n",
    "            path = f\"{directory}/{subset}/{label}\"\n",
    "            for file in os.listdir(path):\n",
    "                if file.endswith(\".txt\"): # 判斷結尾是.txt才能讀取資料\n",
    "                    with open(f'{path}/{file}', 'r', encoding='utf-8') as f:\n",
    "                        data.append(f.read()) # 加入文本資料\n",
    "                        labels.append('positive' if label == 'pos' else 'negative') # 根據資料夾名稱轉換標籤\n",
    "    df = pd.DataFrame({'review': data, 'sentiment': labels})\n",
    "    df.to_csv(csv_file_path, index=False) # 加入 index=False 避免 DataFrame 產生預設的索引欄位\n",
    "\n",
    "convert_IMDB_to_csv('aclImdb', 'imdb_data.csv')"
   ]
  },
  {
   "cell_type": "markdown",
   "metadata": {},
   "source": [
    "## 固定亂數"
   ]
  },
  {
   "cell_type": "code",
   "execution_count": 6,
   "metadata": {},
   "outputs": [],
   "source": [
    "import torch\n",
    "import numpy as np\n",
    "import random\n",
    "\n",
    "def set_seeds(seed):\n",
    "    random.seed(seed)  # 設定 Python 標準庫的亂數生成器種子\n",
    "    np.random.seed(seed)  # 設定 NumPy 亂數生成器種子\n",
    "    torch.manual_seed(seed)  # 設定 PyTorch 的 CPU 亂數生成器種子\n",
    "    if torch.cuda.is_available():\n",
    "        torch.cuda.manual_seed(seed)  # 設定 PyTorch 在單個 GPU 上的亂數種子\n",
    "        torch.cuda.manual_seed_all(seed)  # 設定 PyTorch 在所有 GPU 上的亂數種子\n",
    "    torch.backends.cudnn.benchmark = False  # 禁用 cuDNN 的基準測試功能\n",
    "    torch.backends.cudnn.deterministic = True  # 強制 cuDNN 使用確定性算法\n",
    "\n",
    "set_seeds(2526)"
   ]
  },
  {
   "cell_type": "markdown",
   "metadata": {},
   "source": [
    "## 重新加載檔案"
   ]
  },
  {
   "cell_type": "code",
   "execution_count": 7,
   "metadata": {},
   "outputs": [
    {
     "name": "stdout",
     "output_type": "stream",
     "text": [
      "[1. 1. 1. ... 0. 0. 0.]\n"
     ]
    }
   ],
   "source": [
    "import pandas as pd\n",
    "\n",
    " # 讀取CSV資料\n",
    "df = pd.read_csv('imdb_data.csv')\n",
    "\n",
    "# 讀取文章與情緒欄位\n",
    "reviews = df['review'].values\n",
    "sentiments = df['sentiment'].values\n",
    "\n",
    "# 將情緒資料轉換成數字資料\n",
    "labels = (sentiments == 'positive').astype('float32')\n",
    "print(labels)"
   ]
  },
  {
   "cell_type": "markdown",
   "metadata": {},
   "source": [
    "## 讀英文Tokenizer"
   ]
  },
  {
   "cell_type": "code",
   "execution_count": 8,
   "metadata": {},
   "outputs": [
    {
     "name": "stdout",
     "output_type": "stream",
     "text": [
      "Tokenizer輸出:\n",
      "{'input_ids': tensor([[  101, 22953,  2213,  4381,  2152,  2003,  1037,  9476,  4038,   102],\n",
      "        [  101, 11573,  2791,  1006,  2030,  2160, 24913,  2004,  2577,   102]]), 'token_type_ids': tensor([[0, 0, 0, 0, 0, 0, 0, 0, 0, 0],\n",
      "        [0, 0, 0, 0, 0, 0, 0, 0, 0, 0]]), 'attention_mask': tensor([[1, 1, 1, 1, 1, 1, 1, 1, 1, 1],\n",
      "        [1, 1, 1, 1, 1, 1, 1, 1, 1, 1]])}\n",
      "還原文字:\n",
      "[CLS] bromwell high is a cartoon comedy [SEP]\n",
      "[CLS] homelessness ( or houselessness as george [SEP]\n"
     ]
    }
   ],
   "source": [
    "# 讀取別人使用BPE斷詞所建立的Tokenizer\n",
    "from transformers import AutoTokenizer\n",
    "\n",
    "tokenizer = AutoTokenizer.from_pretrained(\"bert-base-uncased\")\n",
    "input_datas = tokenizer(reviews[:2].tolist(), max_length=10, truncation=True, padding=\"longest\", return_tensors='pt')\n",
    "\n",
    "# 觀看結果\n",
    "print('Tokenizer輸出:')\n",
    "print(input_datas)\n",
    "print('還原文字:')\n",
    "print(tokenizer.decode(input_datas['input_ids'][0]))\n",
    "print(tokenizer.decode(input_datas['input_ids'][1]))"
   ]
  },
  {
   "cell_type": "markdown",
   "metadata": {},
   "source": [
    "## 轉換成DataLoader"
   ]
  },
  {
   "cell_type": "code",
   "execution_count": 9,
   "metadata": {},
   "outputs": [],
   "source": [
    "from torch.utils.data import Dataset, DataLoader\n",
    "from sklearn.model_selection import train_test_split\n",
    "\n",
    "class IMDB(Dataset):\n",
    "    def __init__(self, x, y, tokenizer):\n",
    "        self.x = x\n",
    "        self.y = y\n",
    "        self.tokenizer = tokenizer\n",
    "\n",
    "    def __getitem__(self, index):\n",
    "        return self.x[index], self.y[index]\n",
    "       \n",
    "    def __len__(self):\n",
    "        return len(self.x)\n",
    "    \n",
    "    def collate_fn(self, batch):    \n",
    "        batch_x, batch_y = zip(*batch)\n",
    "        input_ids = self.tokenizer(batch_x, max_length=128, truncation=True, padding=\"longest\", return_tensors='pt').input_ids[:,1:-1] # 移除[CLS]與[SEP]標籤\n",
    "        labels = torch.tensor(batch_y)\n",
    "        return {'input_ids': input_ids, 'labels': labels}\n",
    "\n",
    "# 分割資料集\n",
    "x_train, x_valid, y_train, y_valid = train_test_split(reviews, labels, train_size=0.8, random_state=46, shuffle=True)\n",
    "\n",
    "# 建立Dataset\n",
    "trainset = IMDB(x_train, y_train, tokenizer)\n",
    "validset = IMDB(x_valid, y_valid, tokenizer)\n",
    "\n",
    "# DataLoader\n",
    "valid_loader = DataLoader(validset, batch_size=32, shuffle=True, num_workers=0, pin_memory=True, collate_fn=validset.collate_fn)\n",
    "train_loader = DataLoader(trainset, batch_size=32, shuffle=True, num_workers=0, pin_memory=True, collate_fn=trainset.collate_fn)\n"
   ]
  },
  {
   "cell_type": "markdown",
   "metadata": {},
   "source": [
    "## 建立時間序列模型"
   ]
  },
  {
   "cell_type": "code",
   "execution_count": 10,
   "metadata": {},
   "outputs": [],
   "source": [
    "import torch.nn as nn\n",
    "import torch.optim as optim \n",
    "\n",
    "class TimeSeriesModel(nn.Module):\n",
    "    def __init__(self, vocab_size, embedding_dim, hidden_size, padding_idx, num_layers=1, bidirectional=True, model_type='LSTM'):\n",
    "        super().__init__()\n",
    "        self.criterion = nn.BCELoss() #定義損失函數\n",
    "        self.embedding = nn.Embedding(vocab_size, embedding_dim, padding_idx=padding_idx) \n",
    "        \n",
    "        # 切換模型\n",
    "        rnn_models = {'LSTM': nn.LSTM, 'GRU': nn.GRU, 'RNN': nn.RNN}\n",
    "        self.series_model = rnn_models.get(model_type, nn.LSTM) (\n",
    "            embedding_dim, \n",
    "            hidden_size,\n",
    "            num_layers=num_layers, \n",
    "            bidirectional=bidirectional, \n",
    "            batch_first=True\n",
    "        )\n",
    "\n",
    "        # 如果是雙向運算則最終的hidden state會變成2倍\n",
    "        hidden = hidden_size * 2 if bidirectional else hidden_size\n",
    "        self.fc = nn.Linear(hidden, 1)\n",
    "        self.sigmoid = nn.Sigmoid()\n",
    "\n",
    "    def forward(self, **kwargs):\n",
    "        # 取得輸入資料\n",
    "        input_ids = kwargs['input_ids']\n",
    "        labels = kwargs['labels']          \n",
    "        #轉換成詞嵌入向量\n",
    "        emb_out = self.embedding(input_ids)\n",
    "        # 時間序列模型進行運算\n",
    "        output, h_n = self.series_model(emb_out)\n",
    "        # output: (batch_size, seq_len, hidden_size * 2)\n",
    "        h_t = output[:, -1, :]\n",
    "        # h_t: (batch_size, 1, hidden_size * 2)\n",
    "        y_hat = self.sigmoid(self.fc(h_t))\n",
    "        # h_t: (batch_size, 1)\n",
    "\n",
    "        # 返回loss與logit\n",
    "        return self.criterion(y_hat.view(-1), labels), y_hat\n",
    "\n",
    "device = torch.device('cuda' if torch.cuda.is_available() else 'cpu')\n",
    "# 創建模型並將其移動到適當的設備上\n",
    "model = TimeSeriesModel(\n",
    "    vocab_size=len(tokenizer), \n",
    "    embedding_dim=50, \n",
    "    hidden_size=32, \n",
    "    model_type='LSTM', \n",
    "    padding_idx=tokenizer.pad_token_id\n",
    ").to(device)\n",
    "# 定義優化器\n",
    "optimizer = optim.Adam(model.parameters(), lr=1e-3)"
   ]
  },
  {
   "cell_type": "markdown",
   "metadata": {},
   "source": [
    "## 使用訓練器訓練模型"
   ]
  },
  {
   "cell_type": "code",
   "execution_count": 11,
   "metadata": {},
   "outputs": [
    {
     "name": "stderr",
     "output_type": "stream",
     "text": [
      "Train Epoch 0: 100%|██████████| 1250/1250 [00:15<00:00, 80.99it/s, loss=0.669]\n",
      "Valid Epoch 0: 100%|██████████| 313/313 [00:03<00:00, 101.96it/s, loss=0.648]\n"
     ]
    },
    {
     "name": "stdout",
     "output_type": "stream",
     "text": [
      "Saving Model With Loss 0.68101\n",
      "Train Loss: 0.68988| Valid Loss: 0.68101| Best Loss: 0.68101\n",
      "\n"
     ]
    },
    {
     "name": "stderr",
     "output_type": "stream",
     "text": [
      "Train Epoch 1: 100%|██████████| 1250/1250 [00:17<00:00, 70.29it/s, loss=0.620]\n",
      "Valid Epoch 1: 100%|██████████| 313/313 [00:03<00:00, 94.98it/s, loss=0.583]\n"
     ]
    },
    {
     "name": "stdout",
     "output_type": "stream",
     "text": [
      "Saving Model With Loss 0.62546\n",
      "Train Loss: 0.64642| Valid Loss: 0.62546| Best Loss: 0.62546\n",
      "\n"
     ]
    },
    {
     "name": "stderr",
     "output_type": "stream",
     "text": [
      "Train Epoch 2: 100%|██████████| 1250/1250 [00:17<00:00, 69.73it/s, loss=0.435]\n",
      "Valid Epoch 2: 100%|██████████| 313/313 [00:03<00:00, 95.13it/s, loss=0.612]\n"
     ]
    },
    {
     "name": "stdout",
     "output_type": "stream",
     "text": [
      "Saving Model With Loss 0.55239\n",
      "Train Loss: 0.56124| Valid Loss: 0.55239| Best Loss: 0.55239\n",
      "\n"
     ]
    },
    {
     "name": "stderr",
     "output_type": "stream",
     "text": [
      "Train Epoch 3: 100%|██████████| 1250/1250 [00:18<00:00, 69.35it/s, loss=0.574]\n",
      "Valid Epoch 3: 100%|██████████| 313/313 [00:03<00:00, 95.48it/s, loss=0.703]\n"
     ]
    },
    {
     "name": "stdout",
     "output_type": "stream",
     "text": [
      "Train Loss: 0.48983| Valid Loss: 0.63323| Best Loss: 0.55239\n",
      "\n"
     ]
    },
    {
     "name": "stderr",
     "output_type": "stream",
     "text": [
      "Train Epoch 4: 100%|██████████| 1250/1250 [00:18<00:00, 68.63it/s, loss=0.292]\n",
      "Valid Epoch 4: 100%|██████████| 313/313 [00:03<00:00, 95.01it/s, loss=0.332]\n"
     ]
    },
    {
     "name": "stdout",
     "output_type": "stream",
     "text": [
      "Saving Model With Loss 0.51167\n",
      "Train Loss: 0.47185| Valid Loss: 0.51167| Best Loss: 0.51167\n",
      "\n"
     ]
    },
    {
     "name": "stderr",
     "output_type": "stream",
     "text": [
      "Train Epoch 5: 100%|██████████| 1250/1250 [00:17<00:00, 69.49it/s, loss=0.325]\n",
      "Valid Epoch 5: 100%|██████████| 313/313 [00:03<00:00, 95.02it/s, loss=0.392]\n"
     ]
    },
    {
     "name": "stdout",
     "output_type": "stream",
     "text": [
      "Saving Model With Loss 0.46919\n",
      "Train Loss: 0.40292| Valid Loss: 0.46919| Best Loss: 0.46919\n",
      "\n"
     ]
    },
    {
     "name": "stderr",
     "output_type": "stream",
     "text": [
      "Train Epoch 6: 100%|██████████| 1250/1250 [00:18<00:00, 69.25it/s, loss=0.524]\n",
      "Valid Epoch 6: 100%|██████████| 313/313 [00:03<00:00, 94.82it/s, loss=0.323] \n"
     ]
    },
    {
     "name": "stdout",
     "output_type": "stream",
     "text": [
      "Saving Model With Loss 0.46857\n",
      "Train Loss: 0.34803| Valid Loss: 0.46857| Best Loss: 0.46857\n",
      "\n"
     ]
    },
    {
     "name": "stderr",
     "output_type": "stream",
     "text": [
      "Train Epoch 7: 100%|██████████| 1250/1250 [00:17<00:00, 69.57it/s, loss=0.220]\n",
      "Valid Epoch 7: 100%|██████████| 313/313 [00:03<00:00, 95.47it/s, loss=0.777]\n"
     ]
    },
    {
     "name": "stdout",
     "output_type": "stream",
     "text": [
      "Saving Model With Loss 0.45769\n",
      "Train Loss: 0.30643| Valid Loss: 0.45769| Best Loss: 0.45769\n",
      "\n"
     ]
    },
    {
     "name": "stderr",
     "output_type": "stream",
     "text": [
      "Train Epoch 8: 100%|██████████| 1250/1250 [00:18<00:00, 68.89it/s, loss=0.337]\n",
      "Valid Epoch 8: 100%|██████████| 313/313 [00:03<00:00, 95.30it/s, loss=0.567]\n"
     ]
    },
    {
     "name": "stdout",
     "output_type": "stream",
     "text": [
      "Train Loss: 0.28875| Valid Loss: 0.50595| Best Loss: 0.45769\n",
      "\n"
     ]
    },
    {
     "name": "stderr",
     "output_type": "stream",
     "text": [
      "Train Epoch 9: 100%|██████████| 1250/1250 [00:18<00:00, 68.92it/s, loss=0.305]\n",
      "Valid Epoch 9: 100%|██████████| 313/313 [00:03<00:00, 95.21it/s, loss=0.796]\n"
     ]
    },
    {
     "name": "stdout",
     "output_type": "stream",
     "text": [
      "Train Loss: 0.24769| Valid Loss: 0.47706| Best Loss: 0.45769\n",
      "\n"
     ]
    },
    {
     "name": "stderr",
     "output_type": "stream",
     "text": [
      "Train Epoch 10: 100%|██████████| 1250/1250 [00:18<00:00, 68.94it/s, loss=0.030]\n",
      "Valid Epoch 10: 100%|██████████| 313/313 [00:03<00:00, 95.89it/s, loss=0.409]\n"
     ]
    },
    {
     "name": "stdout",
     "output_type": "stream",
     "text": [
      "Train Loss: 0.23028| Valid Loss: 0.54238| Best Loss: 0.45769\n",
      "\n"
     ]
    },
    {
     "name": "stderr",
     "output_type": "stream",
     "text": [
      "Train Epoch 11: 100%|██████████| 1250/1250 [00:17<00:00, 69.69it/s, loss=0.229]\n",
      "Valid Epoch 11: 100%|██████████| 313/313 [00:03<00:00, 95.81it/s, loss=0.407]\n"
     ]
    },
    {
     "name": "stdout",
     "output_type": "stream",
     "text": [
      "Train Loss: 0.19422| Valid Loss: 0.51193| Best Loss: 0.45769\n",
      "\n"
     ]
    },
    {
     "name": "stderr",
     "output_type": "stream",
     "text": [
      "Train Epoch 12: 100%|██████████| 1250/1250 [00:18<00:00, 68.70it/s, loss=0.091]\n",
      "Valid Epoch 12: 100%|██████████| 313/313 [00:03<00:00, 91.70it/s, loss=0.606]\n"
     ]
    },
    {
     "name": "stdout",
     "output_type": "stream",
     "text": [
      "Train Loss: 0.17103| Valid Loss: 0.55685| Best Loss: 0.45769\n",
      "\n"
     ]
    },
    {
     "name": "stderr",
     "output_type": "stream",
     "text": [
      "Train Epoch 13: 100%|██████████| 1250/1250 [00:18<00:00, 68.79it/s, loss=0.193]\n",
      "Valid Epoch 13: 100%|██████████| 313/313 [00:03<00:00, 95.89it/s, loss=0.494]\n"
     ]
    },
    {
     "name": "stdout",
     "output_type": "stream",
     "text": [
      "Train Loss: 0.15553| Valid Loss: 0.53548| Best Loss: 0.45769\n",
      "\n"
     ]
    },
    {
     "name": "stderr",
     "output_type": "stream",
     "text": [
      "Train Epoch 14: 100%|██████████| 1250/1250 [00:18<00:00, 66.68it/s, loss=0.227]\n",
      "Valid Epoch 14: 100%|██████████| 313/313 [00:03<00:00, 96.04it/s, loss=0.598] \n"
     ]
    },
    {
     "name": "stdout",
     "output_type": "stream",
     "text": [
      "Train Loss: 0.13331| Valid Loss: 0.58455| Best Loss: 0.45769\n",
      "\n"
     ]
    },
    {
     "name": "stderr",
     "output_type": "stream",
     "text": [
      "Train Epoch 15: 100%|██████████| 1250/1250 [00:18<00:00, 67.67it/s, loss=0.038]\n",
      "Valid Epoch 15: 100%|██████████| 313/313 [00:03<00:00, 94.86it/s, loss=0.527]\n"
     ]
    },
    {
     "name": "stdout",
     "output_type": "stream",
     "text": [
      "Train Loss: 0.12172| Valid Loss: 0.59451| Best Loss: 0.45769\n",
      "\n"
     ]
    },
    {
     "name": "stderr",
     "output_type": "stream",
     "text": [
      "Train Epoch 16: 100%|██████████| 1250/1250 [00:18<00:00, 67.86it/s, loss=0.195]\n",
      "Valid Epoch 16: 100%|██████████| 313/313 [00:03<00:00, 94.60it/s, loss=0.839]\n"
     ]
    },
    {
     "name": "stdout",
     "output_type": "stream",
     "text": [
      "Train Loss: 0.10838| Valid Loss: 0.65203| Best Loss: 0.45769\n",
      "\n"
     ]
    },
    {
     "name": "stderr",
     "output_type": "stream",
     "text": [
      "Train Epoch 17: 100%|██████████| 1250/1250 [00:18<00:00, 67.67it/s, loss=0.289]\n",
      "Valid Epoch 17: 100%|██████████| 313/313 [00:03<00:00, 93.13it/s, loss=0.945]\n"
     ]
    },
    {
     "name": "stdout",
     "output_type": "stream",
     "text": [
      "------------------------------------\n",
      "|Model can't improve, stop training|\n",
      "------------------------------------\n"
     ]
    },
    {
     "data": {
      "image/png": "[encoded data removed]",
      "text/plain": [
       "<Figure size 640x480 with 1 Axes>"
      ]
     },
     "metadata": {},
     "output_type": "display_data"
    }
   ],
   "source": [
    "from trainer import Trainer\n",
    "trainer = Trainer(\n",
    "    epochs=100, \n",
    "    train_loader=train_loader, \n",
    "    valid_loader=valid_loader, \n",
    "    model=model, \n",
    "    optimizer=[optimizer],\n",
    ")\n",
    "trainer.train(show_loss=True)"
   ]
  },
  {
   "cell_type": "markdown",
   "metadata": {},
   "source": [
    "## 優化模型"
   ]
  },
  {
   "cell_type": "code",
   "execution_count": 14,
   "metadata": {},
   "outputs": [
    {
     "name": "stderr",
     "output_type": "stream",
     "text": [
      "Train Epoch 0: 100%|██████████| 1250/1250 [00:17<00:00, 71.11it/s, loss=0.695]\n",
      "Valid Epoch 0: 100%|██████████| 313/313 [00:03<00:00, 100.21it/s, loss=0.686]\n"
     ]
    },
    {
     "name": "stdout",
     "output_type": "stream",
     "text": [
      "Saving Model With Loss 0.69280\n",
      "Train Loss: 0.69289| Valid Loss: 0.69280| Best Loss: 0.69280\n",
      "\n"
     ]
    },
    {
     "name": "stderr",
     "output_type": "stream",
     "text": [
      "Train Epoch 1: 100%|██████████| 1250/1250 [00:17<00:00, 71.15it/s, loss=0.695]\n",
      "Valid Epoch 1: 100%|██████████| 313/313 [00:03<00:00, 97.41it/s, loss=0.675] \n"
     ]
    },
    {
     "name": "stdout",
     "output_type": "stream",
     "text": [
      "Saving Model With Loss 0.69246\n",
      "Train Loss: 0.69227| Valid Loss: 0.69246| Best Loss: 0.69246\n",
      "\n"
     ]
    },
    {
     "name": "stderr",
     "output_type": "stream",
     "text": [
      "Train Epoch 2: 100%|██████████| 1250/1250 [00:18<00:00, 67.69it/s, loss=0.693]\n",
      "Valid Epoch 2: 100%|██████████| 313/313 [00:03<00:00, 95.80it/s, loss=0.683]\n"
     ]
    },
    {
     "name": "stdout",
     "output_type": "stream",
     "text": [
      "Train Loss: 0.69232| Valid Loss: 0.69259| Best Loss: 0.69246\n",
      "\n"
     ]
    },
    {
     "name": "stderr",
     "output_type": "stream",
     "text": [
      "Train Epoch 3: 100%|██████████| 1250/1250 [00:18<00:00, 69.02it/s, loss=0.698]\n",
      "Valid Epoch 3: 100%|██████████| 313/313 [00:03<00:00, 97.78it/s, loss=0.709] \n"
     ]
    },
    {
     "name": "stdout",
     "output_type": "stream",
     "text": [
      "Saving Model With Loss 0.69006\n",
      "Train Loss: 0.69161| Valid Loss: 0.69006| Best Loss: 0.69006\n",
      "\n"
     ]
    },
    {
     "name": "stderr",
     "output_type": "stream",
     "text": [
      "Train Epoch 4: 100%|██████████| 1250/1250 [00:18<00:00, 68.26it/s, loss=0.702]\n",
      "Valid Epoch 4: 100%|██████████| 313/313 [00:03<00:00, 96.61it/s, loss=0.692]\n"
     ]
    },
    {
     "name": "stdout",
     "output_type": "stream",
     "text": [
      "Train Loss: 0.67897| Valid Loss: 0.69091| Best Loss: 0.69006\n",
      "\n"
     ]
    },
    {
     "name": "stderr",
     "output_type": "stream",
     "text": [
      "Train Epoch 5: 100%|██████████| 1250/1250 [00:18<00:00, 67.77it/s, loss=0.689]\n",
      "Valid Epoch 5: 100%|██████████| 313/313 [00:03<00:00, 95.81it/s, loss=0.724]\n"
     ]
    },
    {
     "name": "stdout",
     "output_type": "stream",
     "text": [
      "Saving Model With Loss 0.68534\n",
      "Train Loss: 0.68770| Valid Loss: 0.68534| Best Loss: 0.68534\n",
      "\n"
     ]
    },
    {
     "name": "stderr",
     "output_type": "stream",
     "text": [
      "Train Epoch 6: 100%|██████████| 1250/1250 [00:18<00:00, 68.42it/s, loss=0.721]\n",
      "Valid Epoch 6: 100%|██████████| 313/313 [00:03<00:00, 95.99it/s, loss=0.732]\n"
     ]
    },
    {
     "name": "stdout",
     "output_type": "stream",
     "text": [
      "Train Loss: 0.63542| Valid Loss: 0.69966| Best Loss: 0.68534\n",
      "\n"
     ]
    },
    {
     "name": "stderr",
     "output_type": "stream",
     "text": [
      "Train Epoch 7: 100%|██████████| 1250/1250 [00:18<00:00, 68.78it/s, loss=0.392]\n",
      "Valid Epoch 7: 100%|██████████| 313/313 [00:03<00:00, 93.74it/s, loss=0.482]\n"
     ]
    },
    {
     "name": "stdout",
     "output_type": "stream",
     "text": [
      "Saving Model With Loss 0.47822\n",
      "Train Loss: 0.53530| Valid Loss: 0.47822| Best Loss: 0.47822\n",
      "\n"
     ]
    },
    {
     "name": "stderr",
     "output_type": "stream",
     "text": [
      "Train Epoch 8: 100%|██████████| 1250/1250 [00:18<00:00, 67.54it/s, loss=0.637]\n",
      "Valid Epoch 8: 100%|██████████| 313/313 [00:03<00:00, 94.89it/s, loss=0.589] \n"
     ]
    },
    {
     "name": "stdout",
     "output_type": "stream",
     "text": [
      "Saving Model With Loss 0.41849\n",
      "Train Loss: 0.43814| Valid Loss: 0.41849| Best Loss: 0.41849\n",
      "\n"
     ]
    },
    {
     "name": "stderr",
     "output_type": "stream",
     "text": [
      "Train Epoch 9: 100%|██████████| 1250/1250 [00:18<00:00, 68.16it/s, loss=0.254]\n",
      "Valid Epoch 9: 100%|██████████| 313/313 [00:03<00:00, 97.00it/s, loss=0.451] \n"
     ]
    },
    {
     "name": "stdout",
     "output_type": "stream",
     "text": [
      "Saving Model With Loss 0.40949\n",
      "Train Loss: 0.39165| Valid Loss: 0.40949| Best Loss: 0.40949\n",
      "\n"
     ]
    },
    {
     "name": "stderr",
     "output_type": "stream",
     "text": [
      "Train Epoch 10: 100%|██████████| 1250/1250 [00:18<00:00, 67.62it/s, loss=0.335]\n",
      "Valid Epoch 10: 100%|██████████| 313/313 [00:03<00:00, 97.04it/s, loss=0.715] \n"
     ]
    },
    {
     "name": "stdout",
     "output_type": "stream",
     "text": [
      "Train Loss: 0.36426| Valid Loss: 0.42183| Best Loss: 0.40949\n",
      "\n"
     ]
    },
    {
     "name": "stderr",
     "output_type": "stream",
     "text": [
      "Train Epoch 11: 100%|██████████| 1250/1250 [00:18<00:00, 68.46it/s, loss=0.528]\n",
      "Valid Epoch 11: 100%|██████████| 313/313 [00:03<00:00, 96.01it/s, loss=0.475]\n"
     ]
    },
    {
     "name": "stdout",
     "output_type": "stream",
     "text": [
      "Train Loss: 0.33992| Valid Loss: 0.42158| Best Loss: 0.40949\n",
      "\n"
     ]
    },
    {
     "name": "stderr",
     "output_type": "stream",
     "text": [
      "Train Epoch 12: 100%|██████████| 1250/1250 [00:18<00:00, 68.24it/s, loss=0.233]\n",
      "Valid Epoch 12: 100%|██████████| 313/313 [00:03<00:00, 94.66it/s, loss=0.403] \n"
     ]
    },
    {
     "name": "stdout",
     "output_type": "stream",
     "text": [
      "Saving Model With Loss 0.40052\n",
      "Train Loss: 0.31926| Valid Loss: 0.40052| Best Loss: 0.40052\n",
      "\n"
     ]
    },
    {
     "name": "stderr",
     "output_type": "stream",
     "text": [
      "Train Epoch 13: 100%|██████████| 1250/1250 [00:18<00:00, 67.43it/s, loss=0.176]\n",
      "Valid Epoch 13: 100%|██████████| 313/313 [00:03<00:00, 92.40it/s, loss=0.502]\n"
     ]
    },
    {
     "name": "stdout",
     "output_type": "stream",
     "text": [
      "Train Loss: 0.30174| Valid Loss: 0.41780| Best Loss: 0.40052\n",
      "\n"
     ]
    },
    {
     "name": "stderr",
     "output_type": "stream",
     "text": [
      "Train Epoch 14: 100%|██████████| 1250/1250 [00:18<00:00, 66.90it/s, loss=0.294]\n",
      "Valid Epoch 14: 100%|██████████| 313/313 [00:03<00:00, 97.30it/s, loss=0.056] \n"
     ]
    },
    {
     "name": "stdout",
     "output_type": "stream",
     "text": [
      "Train Loss: 0.28616| Valid Loss: 0.45832| Best Loss: 0.40052\n",
      "\n"
     ]
    },
    {
     "name": "stderr",
     "output_type": "stream",
     "text": [
      "Train Epoch 15: 100%|██████████| 1250/1250 [00:18<00:00, 67.59it/s, loss=0.301]\n",
      "Valid Epoch 15: 100%|██████████| 313/313 [00:03<00:00, 96.66it/s, loss=0.425] \n"
     ]
    },
    {
     "name": "stdout",
     "output_type": "stream",
     "text": [
      "Saving Model With Loss 0.39940\n",
      "Train Loss: 0.26996| Valid Loss: 0.39940| Best Loss: 0.39940\n",
      "\n"
     ]
    },
    {
     "name": "stderr",
     "output_type": "stream",
     "text": [
      "Train Epoch 16: 100%|██████████| 1250/1250 [00:18<00:00, 68.61it/s, loss=0.414]\n",
      "Valid Epoch 16: 100%|██████████| 313/313 [00:03<00:00, 97.16it/s, loss=0.200] \n"
     ]
    },
    {
     "name": "stdout",
     "output_type": "stream",
     "text": [
      "Train Loss: 0.25967| Valid Loss: 0.41291| Best Loss: 0.39940\n",
      "\n"
     ]
    },
    {
     "name": "stderr",
     "output_type": "stream",
     "text": [
      "Train Epoch 17: 100%|██████████| 1250/1250 [00:18<00:00, 68.38it/s, loss=0.183]\n",
      "Valid Epoch 17: 100%|██████████| 313/313 [00:03<00:00, 94.72it/s, loss=0.208]\n"
     ]
    },
    {
     "name": "stdout",
     "output_type": "stream",
     "text": [
      "Train Loss: 0.24537| Valid Loss: 0.40910| Best Loss: 0.39940\n",
      "\n"
     ]
    },
    {
     "name": "stderr",
     "output_type": "stream",
     "text": [
      "Train Epoch 18: 100%|██████████| 1250/1250 [00:18<00:00, 67.48it/s, loss=0.331]\n",
      "Valid Epoch 18: 100%|██████████| 313/313 [00:03<00:00, 92.44it/s, loss=0.465]\n"
     ]
    },
    {
     "name": "stdout",
     "output_type": "stream",
     "text": [
      "Train Loss: 0.23590| Valid Loss: 0.41193| Best Loss: 0.39940\n",
      "\n"
     ]
    },
    {
     "name": "stderr",
     "output_type": "stream",
     "text": [
      "Train Epoch 19: 100%|██████████| 1250/1250 [00:18<00:00, 67.98it/s, loss=0.313]\n",
      "Valid Epoch 19: 100%|██████████| 313/313 [00:03<00:00, 88.03it/s, loss=0.451]\n"
     ]
    },
    {
     "name": "stdout",
     "output_type": "stream",
     "text": [
      "Train Loss: 0.22996| Valid Loss: 0.49709| Best Loss: 0.39940\n",
      "\n"
     ]
    },
    {
     "name": "stderr",
     "output_type": "stream",
     "text": [
      "Train Epoch 20: 100%|██████████| 1250/1250 [00:16<00:00, 77.45it/s, loss=0.287]\n",
      "Valid Epoch 20: 100%|██████████| 313/313 [00:03<00:00, 96.34it/s, loss=0.330]\n"
     ]
    },
    {
     "name": "stdout",
     "output_type": "stream",
     "text": [
      "Train Loss: 0.22003| Valid Loss: 0.41854| Best Loss: 0.39940\n",
      "\n"
     ]
    },
    {
     "name": "stderr",
     "output_type": "stream",
     "text": [
      "Train Epoch 21: 100%|██████████| 1250/1250 [00:18<00:00, 68.06it/s, loss=0.254]\n",
      "Valid Epoch 21: 100%|██████████| 313/313 [00:03<00:00, 96.50it/s, loss=0.834] \n"
     ]
    },
    {
     "name": "stdout",
     "output_type": "stream",
     "text": [
      "Train Loss: 0.21970| Valid Loss: 0.47761| Best Loss: 0.39940\n",
      "\n"
     ]
    },
    {
     "name": "stderr",
     "output_type": "stream",
     "text": [
      "Train Epoch 22: 100%|██████████| 1250/1250 [00:18<00:00, 67.87it/s, loss=0.108]\n",
      "Valid Epoch 22: 100%|██████████| 313/313 [00:03<00:00, 96.50it/s, loss=0.267]\n"
     ]
    },
    {
     "name": "stdout",
     "output_type": "stream",
     "text": [
      "Train Loss: 0.21115| Valid Loss: 0.48142| Best Loss: 0.39940\n",
      "\n"
     ]
    },
    {
     "name": "stderr",
     "output_type": "stream",
     "text": [
      "Train Epoch 23: 100%|██████████| 1250/1250 [00:18<00:00, 67.92it/s, loss=0.091]\n",
      "Valid Epoch 23: 100%|██████████| 313/313 [00:03<00:00, 95.39it/s, loss=0.905] \n"
     ]
    },
    {
     "name": "stdout",
     "output_type": "stream",
     "text": [
      "Train Loss: 0.20759| Valid Loss: 0.45514| Best Loss: 0.39940\n",
      "\n"
     ]
    },
    {
     "name": "stderr",
     "output_type": "stream",
     "text": [
      "Train Epoch 24: 100%|██████████| 1250/1250 [00:18<00:00, 67.49it/s, loss=0.246]\n",
      "Valid Epoch 24: 100%|██████████| 313/313 [00:03<00:00, 94.75it/s, loss=0.506]\n"
     ]
    },
    {
     "name": "stdout",
     "output_type": "stream",
     "text": [
      "Train Loss: 0.20667| Valid Loss: 0.45260| Best Loss: 0.39940\n",
      "\n"
     ]
    },
    {
     "name": "stderr",
     "output_type": "stream",
     "text": [
      "Train Epoch 25: 100%|██████████| 1250/1250 [00:18<00:00, 67.92it/s, loss=0.208]\n",
      "Valid Epoch 25: 100%|██████████| 313/313 [00:03<00:00, 97.62it/s, loss=0.541] \n"
     ]
    },
    {
     "name": "stdout",
     "output_type": "stream",
     "text": [
      "------------------------------------\n",
      "|Model can't improve, stop training|\n",
      "------------------------------------\n"
     ]
    },
    {
     "data": {
      "image/png": "[encoded data removed]",
      "text/plain": [
       "<Figure size 640x480 with 1 Axes>"
      ]
     },
     "metadata": {},
     "output_type": "display_data"
    }
   ],
   "source": [
    "# 初始化模型與優化器\n",
    "model = TimeSeriesModel(\n",
    "    vocab_size=len(tokenizer), \n",
    "    embedding_dim=50, \n",
    "    hidden_size=32, \n",
    "    model_type='LSTM', \n",
    "    padding_idx=tokenizer.pad_token_id\n",
    ").to(device)\n",
    "optimizer = optim.Adam(model.parameters(), lr=1e-3, weight_decay=0.001)\n",
    "\n",
    "# 開始訓練\n",
    "trainer = Trainer(\n",
    "    epochs=100, \n",
    "    train_loader=train_loader, \n",
    "    valid_loader=valid_loader, \n",
    "    model=model, \n",
    "    optimizer=[optimizer],\n",
    ")\n",
    "trainer.train(show_loss=True)"
   ]
  },
  {
   "cell_type": "markdown",
   "metadata": {},
   "source": [
    "## 用測試集驗證準確率"
   ]
  },
  {
   "cell_type": "code",
   "execution_count": 17,
   "metadata": {},
   "outputs": [
    {
     "name": "stdout",
     "output_type": "stream",
     "text": [
      "Validation Accuracy: 82.540 %\n"
     ]
    }
   ],
   "source": [
    "# 讀取最佳的模型\n",
    "model.load_state_dict(torch.load('model.ckpt'))\n",
    "# 切換成評估模式\n",
    "model.eval()\n",
    "\n",
    "\n",
    "total_correct = 0\n",
    "total_samples = 0\n",
    "\n",
    "with torch.no_grad():\n",
    "    for input_data in valid_loader:\n",
    "        input_datas = {k: v.to(device) for k, v in input_data.items()}\n",
    "        _, logit = model(**input_datas)\n",
    "        \n",
    "        pred = (logit > 0.5).long()  # 將布林值轉換為整數（0或1）\n",
    "        labels = input_datas['labels']\n",
    "        \n",
    "        total_correct += torch.sum(pred.view(-1) == labels).item()\n",
    "        total_samples += labels.size(0)\n",
    "\n",
    "accuracy = total_correct / total_samples\n",
    "print(f'Validation Accuracy: {accuracy*100:.3f} %')"
   ]
  },
  {
   "cell_type": "code",
   "execution_count": null,
   "metadata": {},
   "outputs": [],
   "source": []
  }
 ],
 "metadata": {
  "kernelspec": {
   "display_name": "Python 3",
   "language": "python",
   "name": "python3"
  },
  "language_info": {
   "codemirror_mode": {
    "name": "ipython",
    "version": 3
   },
   "file_extension": ".py",
   "mimetype": "text/x-python",
   "name": "python",
   "nbconvert_exporter": "python",
   "pygments_lexer": "ipython3",
   "version": "3.8.10"
  }
 },
 "nbformat": 4,
 "nbformat_minor": 2
}
