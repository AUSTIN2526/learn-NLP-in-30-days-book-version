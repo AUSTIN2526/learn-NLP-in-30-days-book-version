{
 "cells": [
  {
   "cell_type": "code",
   "execution_count": 1,
   "metadata": {},
   "outputs": [
    {
     "name": "stderr",
     "output_type": "stream",
     "text": [
      "Special tokens have been added in the vocabulary, make sure the associated word embeddings are fine-tuned or trained.\n"
     ]
    }
   ],
   "source": [
    "# 讀取Tokenizer\n",
    "from transformers import AutoTokenizer\n",
    "\n",
    "tokenizer = AutoTokenizer.from_pretrained(\n",
    "    'meta-llama/Meta-Llama-3-8B-Instruct',\n",
    "    trust_remote_code=True,\n",
    "    add_special_tokens=False\n",
    ")\n",
    "tokenizer.pad_token = tokenizer.eos_token"
   ]
  },
  {
   "cell_type": "code",
   "execution_count": 3,
   "metadata": {},
   "outputs": [
    {
     "name": "stdout",
     "output_type": "stream",
     "text": [
      "<|begin_of_text|><|start_header_id|>system<|end_header_id|>\n",
      "\n",
      "這是系統指令<|eot_id|><|start_header_id|>user<|end_header_id|>\n",
      "\n",
      "這是用戶的輸入<|eot_id|><|start_header_id|>assistant<|end_header_id|>\n",
      "\n",
      "這是模型回復<|eot_id|>\n"
     ]
    }
   ],
   "source": [
    "system_format = {\"role\": \"system\", \"content\": '這是系統指令'}\n",
    "question_format = {\"role\": \"user\", \"content\": '這是用戶的輸入'}\n",
    "answer_format = {\"role\": \"assistant\", \"content\": '這是模型回復'}\n",
    "\n",
    "chat_format = tokenizer.apply_chat_template([system_format, question_format, answer_format])\n",
    "print(tokenizer.decode(chat_format))"
   ]
  },
  {
   "cell_type": "code",
   "execution_count": 5,
   "metadata": {},
   "outputs": [],
   "source": [
    "from transformers import BitsAndBytesConfig\n",
    "import torch\n",
    "\n",
    "quantization_params = {\n",
    "            'load_in_4bit': True,\n",
    "            'bnb_4bit_quant_type': \"nf4\",\n",
    "            'bnb_4bit_use_double_quant': True,\n",
    "            'bnb_4bit_compute_dtype': torch.bfloat16\n",
    "        }\n",
    "bnb_config = BitsAndBytesConfig(**quantization_params)"
   ]
  },
  {
   "cell_type": "code",
   "execution_count": 6,
   "metadata": {},
   "outputs": [
    {
     "data": {
      "application/vnd.jupyter.widget-view+json": {
       "model_id": "f8d26855682a4070acfece5aaa256cb1",
       "version_major": 2,
       "version_minor": 0
      },
      "text/plain": [
       "Loading checkpoint shards:   0%|          | 0/4 [00:00<?, ?it/s]"
      ]
     },
     "metadata": {},
     "output_type": "display_data"
    },
    {
     "name": "stdout",
     "output_type": "stream",
     "text": [
      "LlamaForCausalLM(\n",
      "  (model): LlamaModel(\n",
      "    (embed_tokens): Embedding(128256, 4096)\n",
      "    (layers): ModuleList(\n",
      "      (0-31): 32 x LlamaDecoderLayer(\n",
      "        (self_attn): LlamaSdpaAttention(\n",
      "          (q_proj): Linear4bit(in_features=4096, out_features=4096, bias=False)\n",
      "          (k_proj): Linear4bit(in_features=4096, out_features=1024, bias=False)\n",
      "          (v_proj): Linear4bit(in_features=4096, out_features=1024, bias=False)\n",
      "          (o_proj): Linear4bit(in_features=4096, out_features=4096, bias=False)\n",
      "          (rotary_emb): LlamaRotaryEmbedding()\n",
      "        )\n",
      "        (mlp): LlamaMLP(\n",
      "          (gate_proj): Linear4bit(in_features=4096, out_features=14336, bias=False)\n",
      "          (up_proj): Linear4bit(in_features=4096, out_features=14336, bias=False)\n",
      "          (down_proj): Linear4bit(in_features=14336, out_features=4096, bias=False)\n",
      "          (act_fn): SiLU()\n",
      "        )\n",
      "        (input_layernorm): LlamaRMSNorm()\n",
      "        (post_attention_layernorm): LlamaRMSNorm()\n",
      "      )\n",
      "    )\n",
      "    (norm): LlamaRMSNorm()\n",
      "  )\n",
      "  (lm_head): Linear(in_features=4096, out_features=128256, bias=False)\n",
      ")\n"
     ]
    }
   ],
   "source": [
    "from accelerate import Accelerator\n",
    "from transformers import AutoModelForCausalLM\n",
    "\n",
    "device_map = {\"\": Accelerator().local_process_index}\n",
    "model = AutoModelForCausalLM.from_pretrained(\n",
    "        'meta-llama/Meta-Llama-3-8B-Instruct',\n",
    "        quantization_config=bnb_config,\n",
    "        torch_dtype=torch.bfloat16,\n",
    "        device_map=device_map,\n",
    "        use_cache=False,\n",
    "    )\n",
    "print(model)"
   ]
  },
  {
   "cell_type": "code",
   "execution_count": 7,
   "metadata": {},
   "outputs": [
    {
     "name": "stdout",
     "output_type": "stream",
     "text": [
      "PeftModelForCausalLM(\n",
      "  (base_model): LoraModel(\n",
      "    (model): LlamaForCausalLM(\n",
      "      (model): LlamaModel(\n",
      "        (embed_tokens): Embedding(128256, 4096)\n",
      "        (layers): ModuleList(\n",
      "          (0-31): 32 x LlamaDecoderLayer(\n",
      "            (self_attn): LlamaSdpaAttention(\n",
      "              (q_proj): lora.Linear4bit(\n",
      "                (base_layer): Linear4bit(in_features=4096, out_features=4096, bias=False)\n",
      "                (lora_dropout): ModuleDict(\n",
      "                  (default): Dropout(p=0.1, inplace=False)\n",
      "                )\n",
      "                (lora_A): ModuleDict(\n",
      "                  (default): Linear(in_features=4096, out_features=32, bias=False)\n",
      "                )\n",
      "                (lora_B): ModuleDict(\n",
      "                  (default): Linear(in_features=32, out_features=4096, bias=False)\n",
      "                )\n",
      "                (lora_embedding_A): ParameterDict()\n",
      "                (lora_embedding_B): ParameterDict()\n",
      "              )\n",
      "              (k_proj): lora.Linear4bit(\n",
      "                (base_layer): Linear4bit(in_features=4096, out_features=1024, bias=False)\n",
      "                (lora_dropout): ModuleDict(\n",
      "                  (default): Dropout(p=0.1, inplace=False)\n",
      "                )\n",
      "                (lora_A): ModuleDict(\n",
      "                  (default): Linear(in_features=4096, out_features=32, bias=False)\n",
      "                )\n",
      "                (lora_B): ModuleDict(\n",
      "                  (default): Linear(in_features=32, out_features=1024, bias=False)\n",
      "                )\n",
      "                (lora_embedding_A): ParameterDict()\n",
      "                (lora_embedding_B): ParameterDict()\n",
      "              )\n",
      "              (v_proj): lora.Linear4bit(\n",
      "                (base_layer): Linear4bit(in_features=4096, out_features=1024, bias=False)\n",
      "                (lora_dropout): ModuleDict(\n",
      "                  (default): Dropout(p=0.1, inplace=False)\n",
      "                )\n",
      "                (lora_A): ModuleDict(\n",
      "                  (default): Linear(in_features=4096, out_features=32, bias=False)\n",
      "                )\n",
      "                (lora_B): ModuleDict(\n",
      "                  (default): Linear(in_features=32, out_features=1024, bias=False)\n",
      "                )\n",
      "                (lora_embedding_A): ParameterDict()\n",
      "                (lora_embedding_B): ParameterDict()\n",
      "              )\n",
      "              (o_proj): lora.Linear4bit(\n",
      "                (base_layer): Linear4bit(in_features=4096, out_features=4096, bias=False)\n",
      "                (lora_dropout): ModuleDict(\n",
      "                  (default): Dropout(p=0.1, inplace=False)\n",
      "                )\n",
      "                (lora_A): ModuleDict(\n",
      "                  (default): Linear(in_features=4096, out_features=32, bias=False)\n",
      "                )\n",
      "                (lora_B): ModuleDict(\n",
      "                  (default): Linear(in_features=32, out_features=4096, bias=False)\n",
      "                )\n",
      "                (lora_embedding_A): ParameterDict()\n",
      "                (lora_embedding_B): ParameterDict()\n",
      "              )\n",
      "              (rotary_emb): LlamaRotaryEmbedding()\n",
      "            )\n",
      "            (mlp): LlamaMLP(\n",
      "              (gate_proj): Linear4bit(in_features=4096, out_features=14336, bias=False)\n",
      "              (up_proj): Linear4bit(in_features=4096, out_features=14336, bias=False)\n",
      "              (down_proj): Linear4bit(in_features=14336, out_features=4096, bias=False)\n",
      "              (act_fn): SiLU()\n",
      "            )\n",
      "            (input_layernorm): LlamaRMSNorm()\n",
      "            (post_attention_layernorm): LlamaRMSNorm()\n",
      "          )\n",
      "        )\n",
      "        (norm): LlamaRMSNorm()\n",
      "      )\n",
      "      (lm_head): Linear(in_features=4096, out_features=128256, bias=False)\n",
      "    )\n",
      "  )\n",
      ")\n"
     ]
    }
   ],
   "source": [
    "from peft import LoraConfig, get_peft_model, prepare_model_for_kbit_training\n",
    "\n",
    "peft_params = {\n",
    "            'r': 32,        \n",
    "            'target_modules': [\"q_proj\", \"k_proj\", \"v_proj\", \"o_proj\"],\n",
    "            'lora_dropout': 0.1,\n",
    "            'task_type': \"CAUSAL_LM\",\n",
    "        }\n",
    "peft_config = LoraConfig(**peft_params)\n",
    "\n",
    "model = prepare_model_for_kbit_training(model, use_gradient_checkpointing=True) # QLora\n",
    "model = get_peft_model(model, peft_config)\n",
    "print(model)"
   ]
  },
  {
   "cell_type": "code",
   "execution_count": 9,
   "metadata": {},
   "outputs": [],
   "source": [
    "from transformers.modeling_utils import unwrap_model\n",
    "\n",
    "def activate_neftune(model, neftune_noise_alpha = 5):\n",
    "        unwrapped_model = unwrap_model(model)\n",
    "        embeddings = unwrapped_model.base_model.model.get_input_embeddings()\n",
    "        embeddings.neftune_noise_alpha = neftune_noise_alpha\n",
    "        # hook embedding layer\n",
    "        hook_handle = embeddings.register_forward_hook(neftune_post_forward_hook)\n",
    "        \n",
    "        return model\n",
    "        \n",
    "def neftune_post_forward_hook(module, input, output):\n",
    "    # 公式來源:https://github.com/neelsjain/NEFTune\n",
    "    # 論文網址:https://arxiv.org/abs/2310.05914\n",
    "    if module.training:\n",
    "        dims = torch.tensor(output.size(1) * output.size(2))\n",
    "        mag_norm = module.neftune_noise_alpha / torch.sqrt(dims)\n",
    "        output = output + torch.zeros_like(output).uniform_(-mag_norm, mag_norm)\n",
    "            \n",
    "    return output\n",
    "model = activate_neftune(model)\n"
   ]
  },
  {
   "cell_type": "code",
   "execution_count": 11,
   "metadata": {},
   "outputs": [],
   "source": [
    "import pandas as pd\n",
    "\n",
    "def transform_format(questions, answers, system='你是一個zh-tw版本的聊天機器人'):\n",
    "    context = []\n",
    "    for q, a in zip(questions, answers):\n",
    "        system_format = {\"role\": \"system\", \"content\": system}\n",
    "        question_format = {\"role\": \"user\", \"content\": q}\n",
    "        answer_format = {\"role\": \"assistant\", \"content\": a}\n",
    "        context.append([system_format, question_format, answer_format])\n",
    "    return context\n",
    "\n",
    "# 讀取CSV檔案\n",
    "df = pd.read_csv('Gossiping-QA-Dataset-2_0.csv')\n",
    "\n",
    "# 提取問題和答案的列表\n",
    "questions = df['question'].tolist()[:5000]\n",
    "answers = df['answer'].tolist()[:5000]\n",
    "\n",
    "# 轉換格式\n",
    "formatted_context = transform_format(questions, answers)"
   ]
  },
  {
   "cell_type": "code",
   "execution_count": 12,
   "metadata": {},
   "outputs": [],
   "source": [
    "import torch\n",
    "from torch.utils.data import Dataset, DataLoader\n",
    "\n",
    "# 定義自定義 Dataset\n",
    "class PTTDataset(Dataset):\n",
    "    def __init__(self, formatted_context, tokenizer):\n",
    "        self.formatted_context = formatted_context\n",
    "        self.tokenizer = tokenizer\n",
    "\n",
    "    def __getitem__(self, index):\n",
    "        return self.formatted_context[index]\n",
    "       \n",
    "    def __len__(self):\n",
    "        return len(self.formatted_context)\n",
    "\n",
    "    def collate_fn(self, batch):\n",
    "        formatted_contexts = self.tokenizer.apply_chat_template(batch, padding=True, return_dict=True, max_length=8192, return_tensors='pt', truncation=True)\n",
    "        attention_mask = formatted_contexts['attention_mask']\n",
    "        labels = formatted_contexts['input_ids'].clone()\n",
    "        labels[attention_mask == 0] = -100\n",
    "        formatted_contexts['labels'] = labels\n",
    "        return formatted_contexts\n",
    "\n",
    "# 建立資料集\n",
    "trainset = PTTDataset(formatted_context, tokenizer)\n",
    "validset = PTTDataset(formatted_context, tokenizer)\n",
    "\n",
    "# 創建 DataLoader\n",
    "train_loader = DataLoader(trainset, batch_size=4, shuffle=True, collate_fn=trainset.collate_fn)\n",
    "valid_loader = DataLoader(validset, batch_size=4, shuffle=True, collate_fn=validset.collate_fn)"
   ]
  },
  {
   "cell_type": "code",
   "execution_count": 13,
   "metadata": {},
   "outputs": [],
   "source": [
    "import torch.optim as optim\n",
    "from transformers import get_cosine_with_hard_restarts_schedule_with_warmup\n",
    "\n",
    "# 訓練設置\n",
    "device = torch.device('cuda' if torch.cuda.is_available() else 'cpu')\n",
    "\n",
    "optimizer = optim.AdamW(model.parameters(), lr=5e-5)\n",
    "scheduler = get_cosine_with_hard_restarts_schedule_with_warmup(\n",
    "        optimizer, \n",
    "        num_warmup_steps=len(train_loader) * 0.2, \n",
    "        num_training_steps=len(train_loader) * 10, \n",
    "        num_cycles=1, \n",
    ")"
   ]
  },
  {
   "cell_type": "code",
   "execution_count": 6,
   "metadata": {},
   "outputs": [
    {
     "name": "stderr",
     "output_type": "stream",
     "text": [
      "  0%|          | 0/1250 [00:00<?, ?it/s]c:\\Users\\user\\AppData\\Local\\Programs\\Python\\Python38\\lib\\site-packages\\torch\\utils\\checkpoint.py:464: UserWarning: torch.utils.checkpoint: the use_reentrant parameter should be passed explicitly. In version 2.4 we will raise an exception if use_reentrant is not passed. use_reentrant=False is recommended, but if you need to preserve the current default behavior, you can pass use_reentrant=True. Refer to docs for more details on the differences between the two variants.\n",
      "  warnings.warn(\n",
      "c:\\Users\\user\\AppData\\Local\\Programs\\Python\\Python38\\lib\\site-packages\\transformers\\models\\llama\\modeling_llama.py:648: UserWarning: 1Torch was not compiled with flash attention. (Triggered internally at C:\\actions-runner\\_work\\pytorch\\pytorch\\builder\\windows\\pytorch\\aten\\src\\ATen\\native\\transformers\\cuda\\sdp_utils.cpp:455.)\n",
      "  attn_output = torch.nn.functional.scaled_dot_product_attention(\n",
      "Train Epoch 0: 100%|██████████| 1250/1250 [11:59<00:00,  1.74it/s, loss=2.030]\n",
      "Valid Epoch 0: 100%|██████████| 1250/1250 [04:08<00:00,  5.04it/s, loss=2.036]\n"
     ]
    },
    {
     "name": "stdout",
     "output_type": "stream",
     "text": [
      "Saving Model With Loss 2.05673\n",
      "Train Loss: 2.69410| Valid Loss: 2.05673| Best Loss: 2.05673\n",
      "\n"
     ]
    },
    {
     "name": "stderr",
     "output_type": "stream",
     "text": [
      "Train Epoch 1: 100%|██████████| 1250/1250 [12:01<00:00,  1.73it/s, loss=2.247]\n",
      "Valid Epoch 1: 100%|██████████| 1250/1250 [04:08<00:00,  5.02it/s, loss=2.275]\n"
     ]
    },
    {
     "name": "stdout",
     "output_type": "stream",
     "text": [
      "Saving Model With Loss 2.01128\n",
      "Train Loss: 2.10769| Valid Loss: 2.01128| Best Loss: 2.01128\n",
      "\n"
     ]
    },
    {
     "name": "stderr",
     "output_type": "stream",
     "text": [
      "Train Epoch 2: 100%|██████████| 1250/1250 [12:03<00:00,  1.73it/s, loss=2.173]\n",
      "Valid Epoch 2: 100%|██████████| 1250/1250 [04:07<00:00,  5.04it/s, loss=1.897]\n"
     ]
    },
    {
     "name": "stdout",
     "output_type": "stream",
     "text": [
      "Saving Model With Loss 1.96214\n",
      "Train Loss: 2.04977| Valid Loss: 1.96214| Best Loss: 1.96214\n",
      "\n"
     ]
    },
    {
     "name": "stderr",
     "output_type": "stream",
     "text": [
      "Train Epoch 3: 100%|██████████| 1250/1250 [12:01<00:00,  1.73it/s, loss=2.308]\n",
      "Valid Epoch 3: 100%|██████████| 1250/1250 [04:07<00:00,  5.04it/s, loss=1.659]\n"
     ]
    },
    {
     "name": "stdout",
     "output_type": "stream",
     "text": [
      "Saving Model With Loss 1.92267\n",
      "Train Loss: 1.99899| Valid Loss: 1.92267| Best Loss: 1.92267\n",
      "\n"
     ]
    },
    {
     "name": "stderr",
     "output_type": "stream",
     "text": [
      "Train Epoch 4: 100%|██████████| 1250/1250 [12:00<00:00,  1.73it/s, loss=1.909]\n",
      "Valid Epoch 4: 100%|██████████| 1250/1250 [04:07<00:00,  5.05it/s, loss=1.752]\n"
     ]
    },
    {
     "name": "stdout",
     "output_type": "stream",
     "text": [
      "Saving Model With Loss 1.88155\n",
      "Train Loss: 1.95486| Valid Loss: 1.88155| Best Loss: 1.88155\n",
      "\n"
     ]
    },
    {
     "name": "stderr",
     "output_type": "stream",
     "text": [
      "Train Epoch 5: 100%|██████████| 1250/1250 [12:01<00:00,  1.73it/s, loss=1.481]\n",
      "Valid Epoch 5: 100%|██████████| 1250/1250 [04:07<00:00,  5.04it/s, loss=1.406]\n"
     ]
    },
    {
     "name": "stdout",
     "output_type": "stream",
     "text": [
      "Saving Model With Loss 1.84768\n",
      "Train Loss: 1.91468| Valid Loss: 1.84768| Best Loss: 1.84768\n",
      "\n"
     ]
    },
    {
     "name": "stderr",
     "output_type": "stream",
     "text": [
      "Train Epoch 6: 100%|██████████| 1250/1250 [12:01<00:00,  1.73it/s, loss=1.907]\n",
      "Valid Epoch 6: 100%|██████████| 1250/1250 [04:08<00:00,  5.04it/s, loss=1.585]\n"
     ]
    },
    {
     "name": "stdout",
     "output_type": "stream",
     "text": [
      "Saving Model With Loss 1.82579\n",
      "Train Loss: 1.88240| Valid Loss: 1.82579| Best Loss: 1.82579\n",
      "\n"
     ]
    },
    {
     "name": "stderr",
     "output_type": "stream",
     "text": [
      "Train Epoch 7: 100%|██████████| 1250/1250 [12:01<00:00,  1.73it/s, loss=1.926]\n",
      "Valid Epoch 7: 100%|██████████| 1250/1250 [04:07<00:00,  5.05it/s, loss=1.443]\n"
     ]
    },
    {
     "name": "stdout",
     "output_type": "stream",
     "text": [
      "Saving Model With Loss 1.80940\n",
      "Train Loss: 1.85575| Valid Loss: 1.80940| Best Loss: 1.80940\n",
      "\n"
     ]
    },
    {
     "name": "stderr",
     "output_type": "stream",
     "text": [
      "Train Epoch 8: 100%|██████████| 1250/1250 [12:01<00:00,  1.73it/s, loss=1.849]\n",
      "Valid Epoch 8: 100%|██████████| 1250/1250 [04:07<00:00,  5.04it/s, loss=1.828]\n"
     ]
    },
    {
     "name": "stdout",
     "output_type": "stream",
     "text": [
      "Saving Model With Loss 1.80488\n",
      "Train Loss: 1.83953| Valid Loss: 1.80488| Best Loss: 1.80488\n",
      "\n"
     ]
    },
    {
     "name": "stderr",
     "output_type": "stream",
     "text": [
      "Train Epoch 9: 100%|██████████| 1250/1250 [12:01<00:00,  1.73it/s, loss=1.960]\n",
      "Valid Epoch 9: 100%|██████████| 1250/1250 [04:07<00:00,  5.04it/s, loss=2.114]\n"
     ]
    },
    {
     "name": "stdout",
     "output_type": "stream",
     "text": [
      "Saving Model With Loss 1.80411\n",
      "Train Loss: 1.83201| Valid Loss: 1.80411| Best Loss: 1.80411\n",
      "\n"
     ]
    },
    {
     "data": {
      "image/png": "[encoded data removed]",
      "text/plain": [
       "<Figure size 640x480 with 1 Axes>"
      ]
     },
     "metadata": {},
     "output_type": "display_data"
    }
   ],
   "source": [
    "from trainer import Trainer\n",
    "trainer = Trainer(\n",
    "    epochs=10, \n",
    "    train_loader=train_loader, \n",
    "    valid_loader=valid_loader,\n",
    "    model=model, \n",
    "    optimizer=[optimizer],\n",
    "    scheduler=[scheduler],\n",
    "    early_stopping=3,\n",
    "    device=device\n",
    ")\n",
    "trainer.train()"
   ]
  },
  {
   "cell_type": "code",
   "execution_count": 15,
   "metadata": {},
   "outputs": [],
   "source": [
    "model.load_state_dict(torch.load('model.ckpt'))\n",
    "model.eval()\n",
    "model.generation_config.pad_token_id = tokenizer.eos_token_id"
   ]
  },
  {
   "cell_type": "code",
   "execution_count": 24,
   "metadata": {},
   "outputs": [
    {
     "name": "stdout",
     "output_type": "stream",
     "text": [
      "<|begin_of_text|><|start_header_id|>system<|end_header_id|>\n",
      "\n",
      "你是一個zh-tw版本的聊天機器人<|eot_id|><|start_header_id|>user<|end_header_id|>\n",
      "\n",
      "PTT是甚麼阿?<|eot_id|><|start_header_id|>assistant<|end_header_id|>\n",
      "\n",
      "PTT是台灣最大的網路論壇<|eot_id|>\n"
     ]
    }
   ],
   "source": [
    "messages = [\n",
    "    {\"role\": \"system\", \"content\": '你是一個zh-tw版本的聊天機器人'},\n",
    "    {\"role\": \"user\", \"content\": 'PTT是甚麼阿?'},\n",
    "]\n",
    "input_data = tokenizer.apply_chat_template(messages, padding=True, return_dict=True, max_length=8192, return_tensors='pt', truncation=True).to(device)\n",
    "ids = model.generate(**input_data)\n",
    "print(tokenizer.decode(ids[0]))"
   ]
  },
  {
   "cell_type": "code",
   "execution_count": null,
   "metadata": {},
   "outputs": [],
   "source": []
  }
 ],
 "metadata": {
  "kernelspec": {
   "display_name": "Python 3",
   "language": "python",
   "name": "python3"
  },
  "language_info": {
   "codemirror_mode": {
    "name": "ipython",
    "version": 3
   },
   "file_extension": ".py",
   "mimetype": "text/x-python",
   "name": "python",
   "nbconvert_exporter": "python",
   "pygments_lexer": "ipython3",
   "version": "3.8.10"
  }
 },
 "nbformat": 4,
 "nbformat_minor": 2
}
