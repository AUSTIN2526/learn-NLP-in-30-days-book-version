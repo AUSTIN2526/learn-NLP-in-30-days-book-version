{
 "cells": [
  {
   "cell_type": "markdown",
   "metadata": {},
   "source": [
    "## 轉換資料型態"
   ]
  },
  {
   "cell_type": "code",
   "execution_count": 1,
   "metadata": {},
   "outputs": [
    {
     "data": {
      "text/plain": [
       "'import pandas as pd\\nfrom opencc import OpenCC\\n\\ndef convert_news_to_csv(data_path, csv_file_path):\\n    cc = OpenCC(\\'s2tw\\') # 簡體轉繁體\\n    with open(data_path, \\'r\\', encoding = \"utf-8\") as f:\\n        lines = f.read().split(\\'\\n\\')\\n        english, chinese = [], []\\n        for line in lines:\\n            if line:\\n                en, cn, _, = line.split(\\'\\t\\') # 資料是\\t分割的\\n                english.append(en)\\n                \\n                chinese.append(cc.convert(cn))\\n    df = pd.DataFrame({\\'chinese\\':chinese, \\'english\\':english})\\n    df.to_csv(csv_file_path)\\n    \\nconvert_news_to_csv(\\'cmn.txt\\', \\'translate.csv\\')'"
      ]
     },
     "execution_count": 1,
     "metadata": {},
     "output_type": "execute_result"
    }
   ],
   "source": [
    "import pandas as pd\n",
    "from opencc import OpenCC\n",
    "\n",
    "def convert_news_to_csv(data_path, csv_file_path):\n",
    "    cc = OpenCC('s2tw') # 簡體轉繁體\n",
    "    with open(data_path, 'r', encoding = \"utf-8\") as f:\n",
    "        lines = f.read().split('\\n')\n",
    "        english, chinese = [], []\n",
    "        for line in lines:\n",
    "            if line:\n",
    "                en, cn, _, = line.split('\\t') # 資料是\\t分割的\n",
    "                english.append(en)\n",
    "                \n",
    "                chinese.append(cc.convert(cn))\n",
    "    df = pd.DataFrame({'chinese':chinese, 'english':english})\n",
    "    df.to_csv(csv_file_path)\n",
    "    \n",
    "convert_news_to_csv('cmn.txt', 'translate.csv')"
   ]
  },
  {
   "cell_type": "markdown",
   "metadata": {},
   "source": [
    "# 固定亂數"
   ]
  },
  {
   "cell_type": "code",
   "execution_count": 1,
   "metadata": {},
   "outputs": [],
   "source": [
    "import torch\n",
    "import numpy as np\n",
    "import random\n",
    "\n",
    "def set_seeds(seed):\n",
    "    random.seed(seed)  # 設定 Python 標準庫的亂數生成器種子\n",
    "    np.random.seed(seed)  # 設定 NumPy 亂數生成器種子\n",
    "    torch.manual_seed(seed)  # 設定 PyTorch 的 CPU 亂數生成器種子\n",
    "    if torch.cuda.is_available():\n",
    "        torch.cuda.manual_seed(seed)  # 設定 PyTorch 在單個 GPU 上的亂數種子\n",
    "        torch.cuda.manual_seed_all(seed)  # 設定 PyTorch 在所有 GPU 上的亂數種子\n",
    "    torch.backends.cudnn.benchmark = False  # 禁用 cuDNN 的基準測試功能\n",
    "    torch.backends.cudnn.deterministic = True  # 強制 cuDNN 使用確定性算法\n",
    "\n",
    "set_seeds(2526)"
   ]
  },
  {
   "cell_type": "markdown",
   "metadata": {},
   "source": [
    "## 重新讀取CSV檔案"
   ]
  },
  {
   "cell_type": "code",
   "execution_count": 2,
   "metadata": {},
   "outputs": [],
   "source": [
    "import pandas as pd\n",
    "df = pd.read_csv('translate.csv')\n",
    "input_texts = df['chinese'].values\n",
    "target_texts = df['english'].values"
   ]
  },
  {
   "cell_type": "markdown",
   "metadata": {},
   "source": [
    "# 讀取中英文Tokenizer"
   ]
  },
  {
   "cell_type": "code",
   "execution_count": 3,
   "metadata": {},
   "outputs": [
    {
     "name": "stdout",
     "output_type": "stream",
     "text": [
      "中文轉換後的結果: [CLS] 我 沒 事 。 [SEP] \n",
      "英文轉換後的結果: [CLS] i'm ok. [SEP]\n"
     ]
    }
   ],
   "source": [
    "from transformers import AutoTokenizer\n",
    "def process_texts(tokenizer, texts):\n",
    "    ids = tokenizer(texts[20]).input_ids\n",
    "    return tokenizer.decode(ids)\n",
    "\n",
    "src_tokenizer = AutoTokenizer.from_pretrained('bert-base-chinese')\n",
    "tgt_tokenizer = AutoTokenizer.from_pretrained('bert-base-uncased')\n",
    "\n",
    "cn_text = process_texts(src_tokenizer, input_texts)\n",
    "en_text = process_texts(tgt_tokenizer, target_texts)\n",
    "\n",
    "print('中文轉換後的結果:',cn_text,'\\n英文轉換後的結果:', en_text)"
   ]
  },
  {
   "cell_type": "markdown",
   "metadata": {},
   "source": [
    "## 建立Pytorch Dataloader"
   ]
  },
  {
   "cell_type": "code",
   "execution_count": 4,
   "metadata": {},
   "outputs": [],
   "source": [
    "from torch.utils.data import Dataset, DataLoader\n",
    "from sklearn.model_selection import train_test_split\n",
    "\n",
    "class TranslateDataset(Dataset):\n",
    "    def __init__(self, x, y, src_tokenizer, tgt_tokenizer):\n",
    "        self.x = x\n",
    "        self.y = y\n",
    "        self.src_tokenizer = src_tokenizer\n",
    "        self.tgt_tokenizer = tgt_tokenizer\n",
    "\n",
    "    def __getitem__(self, index):\n",
    "        return self.x[index], self.y[index]\n",
    "       \n",
    "    def __len__(self):\n",
    "        return len(self.x)\n",
    "    \n",
    "    def collate_fn(self, batch):    \n",
    "        batch_x, batch_y = zip(*batch)\n",
    "        inputs = self.src_tokenizer(batch_x, max_length=256, truncation=True, padding=\"longest\", return_tensors='pt').input_ids[:, 1:]\n",
    "        targets = self.tgt_tokenizer(batch_y, max_length=256, truncation=True, padding=\"longest\", return_tensors='pt').input_ids\n",
    "       \n",
    "        return {'src_input_ids':inputs, 'tgt_input_ids': targets}\n",
    "\n",
    "        \n",
    "x_train, x_valid, y_train, y_valid = train_test_split(input_texts, target_texts, train_size=0.8, random_state=46, shuffle=True)\n",
    "\n",
    "trainset = TranslateDataset(x_train, y_train, src_tokenizer, tgt_tokenizer)\n",
    "validset = TranslateDataset(x_valid, y_valid, src_tokenizer, tgt_tokenizer)\n",
    "\n",
    "train_loader = DataLoader(trainset, batch_size = 64, shuffle = True, num_workers = 0, pin_memory = True, collate_fn=trainset.collate_fn)\n",
    "valid_loader = DataLoader(validset, batch_size = 64, shuffle = True, num_workers = 0, pin_memory = True, collate_fn=validset.collate_fn)"
   ]
  },
  {
   "cell_type": "markdown",
   "metadata": {},
   "source": [
    "## 建立Encoder模型"
   ]
  },
  {
   "cell_type": "code",
   "execution_count": 5,
   "metadata": {},
   "outputs": [],
   "source": [
    "import torch.nn as nn\n",
    "\n",
    "class EncoderGRU(nn.Module):\n",
    "    def __init__(self, vocab_size, hidden_size, padding_idx):\n",
    "        super(EncoderGRU, self).__init__()\n",
    "        self.embedding = nn.Embedding(vocab_size, hidden_size, padding_idx=padding_idx)\n",
    "        self.gru = nn.GRU(hidden_size, hidden_size, batch_first=True)\n",
    "        self.dropout = nn.Dropout(0.1)\n",
    "\n",
    "    def forward(self, token_ids):\n",
    "        embedded = self.dropout(self.embedding(token_ids))\n",
    "        #embedded: (batch_size, time_step, emb_dim)\n",
    "        output, hidden = self.gru(embedded) \n",
    "        # output: (batch_size, time_step, hidden_size * 2)\n",
    "        # hidden: (2, batch_size, hidden_size)\n",
    "        return output, hidden\n"
   ]
  },
  {
   "cell_type": "code",
   "execution_count": 6,
   "metadata": {},
   "outputs": [],
   "source": [
    "class BahdanauAttention(nn.Module):\n",
    "    def __init__(self, hidden_size):\n",
    "        super(BahdanauAttention, self).__init__()\n",
    "        self.encoder_projection = nn.Linear(hidden_size, hidden_size)\n",
    "        self.decoder_projection = nn.Linear(hidden_size, hidden_size)\n",
    "        self.attention_v = nn.Linear(hidden_size, 1)\n",
    "        self.tanh = nn.Tanh()\n",
    "        self.softmax = nn.Softmax(dim=-1)\n",
    "\n",
    "    def forward(self, encoder_hidden, decoder_hidden):\n",
    "        energy = self.tanh(self.encoder_projection(encoder_hidden) + self.decoder_projection(decoder_hidden)) #公式5.5\n",
    "        #energy: (batch_size, time_step, hidden_size)\n",
    "        scores = self.attention_v(energy) # 公式5.6\n",
    "        #scores: (batch_size, time_step, 1)\n",
    "        scores = scores.squeeze(2).unsqueeze(1)\n",
    "        #scores: (batch_size, 1, time_step)\n",
    "\n",
    "        attention_weights = self.softmax(scores) # 公式5.7\n",
    "        # attention_weights (batch_size, 1, time_step)\n",
    "        context_vector = torch.bmm(attention_weights, decoder_hidden) # 公式5.8\n",
    "        #context_vector: (batch_size, 1, hidden_size)\n",
    "        return context_vector\n"
   ]
  },
  {
   "cell_type": "code",
   "execution_count": 7,
   "metadata": {},
   "outputs": [],
   "source": [
    "class DecoderGRU(nn.Module):\n",
    "    def __init__(self, attention, hidden_size, output_size, padding_idx):\n",
    "        super(DecoderGRU, self).__init__()\n",
    "        self.embedding = nn.Embedding(output_size, hidden_size, padding_idx=padding_idx)\n",
    "        self.gru = nn.GRU(2 * hidden_size, hidden_size, batch_first=True)\n",
    "        self.output_projection = nn.Linear(hidden_size, output_size)\n",
    "        self.dropout = nn.Dropout(0.1)\n",
    "        self.attention = attention\n",
    "\n",
    "\n",
    "    def forward(self, encoder_outputs, decoder_hidden, decoder_input_ids):\n",
    "        # decoder_input_ids: (batch_size, 1)\n",
    "        embedded = self.dropout(self.embedding(decoder_input_ids)) \n",
    "        # embedded: (1, batch_size, emb_dim)\n",
    "        decoder_state = decoder_hidden.permute(1, 0, 2) \n",
    "        #decoder_state (batch_size, 1, emb_dim)\n",
    "        context = self.attention(decoder_state, encoder_outputs) \n",
    "        # (batch_size, 1, hidden_size)\n",
    "        input_gru = torch.cat((embedded, context), dim=-1) \n",
    "        # input_gru (batch_size, 1, hidden_size + emb_dim)\n",
    "        output, decoder_hidden = self.gru(input_gru, decoder_hidden) \n",
    "        # output: (batch_size, time_step, hidden_size)\n",
    "        # decoder_hidden: (1, batch_size, hidden_size)\n",
    "        decoder_output = self.output_projection(output)\n",
    "        # decoder_output: (batch_size, 1, output_size)\n",
    "        return decoder_output, decoder_hidden\n"
   ]
  },
  {
   "cell_type": "code",
   "execution_count": 8,
   "metadata": {},
   "outputs": [],
   "source": [
    "class Attentionseq2seq(nn.Module):\n",
    "    def __init__(self, encoder, decoder, padding_idx):\n",
    "        super(Attentionseq2seq, self).__init__()\n",
    "        self.encoder = encoder\n",
    "        self.decoder = decoder\n",
    "        self.criterion = nn.NLLLoss(ignore_index=padding_idx)\n",
    "        self.logsoftmax = nn.LogSoftmax(dim=-1)\n",
    "\n",
    "    def forward(self, **kwargs):\n",
    "        input_ids = kwargs['src_input_ids']\n",
    "        targets = kwargs['tgt_input_ids']\n",
    "\n",
    "        # Encoder\n",
    "        encoder_outputs, decoder_hidden = self.encoder(input_ids)\n",
    "        # encoder_outputs: (batch_size, time_step, hidden_size)\n",
    "        # decoder_hidden: (1, batch_size, hidden_size)\n",
    "        decoder_next_input = torch.empty(targets.shape[0], 1, dtype=torch.long).fill_(101).to(input_ids.device.type) # 加入CLS token\n",
    "        # decoder_next_input: (batch_size, 1)\n",
    "\n",
    "        # Decoder\n",
    "        decoder_outputs = []\n",
    "        for i in range(targets.shape[1]):\n",
    "            decoder_next_input, decoder_hidden = self.decoder(encoder_outputs, decoder_hidden, decoder_next_input)\n",
    "            # decoder_next_input: (batch_size, 1, hidden_size)\n",
    "            # decoder_hidden: (1, batch_size, hidden_size)\n",
    "\n",
    "            decoder_outputs.append(decoder_next_input)      # 儲存當前時序的文字分布狀態\n",
    "            decoder_next_input = targets[:, i].unsqueeze(1) # 取出下一個對應的文字進行生成\n",
    "            # decoder_next_input: (batch_size, 1)\n",
    "\n",
    "        decoder_outputs = torch.cat(decoder_outputs, dim=1) # 完整的Decoder隱狀態輸出\n",
    "        # decoder_outputs: (batch_size, time_step, output_dim)\n",
    "        decoder_outputs = self.logsoftmax(decoder_outputs)  # 計算個文字機率\n",
    "        # decoder_outputs: (batch_size, time_step, output_dim)\n",
    "       \n",
    "        # 計算損失值\n",
    "        loss = self.criterion(\n",
    "            decoder_outputs.view(-1, decoder_outputs.size(-1)), # (batch_size * time_step,  output_dim)\n",
    "            targets.view(-1) # (batch_size * time_step)\n",
    "        )\n",
    "        \n",
    "        return loss, decoder_outputs\n",
    "\n",
    "\n",
    "    def generate(self, input_ids, sos_token=101, eos_token=102, max_len=50):\n",
    "        with torch.no_grad():\n",
    "            encoder_outputs, decoder_hidden = self.encoder(input_ids)\n",
    "            decoder_outputs = []\n",
    "            decoder_next_input = torch.empty(1, 1, dtype=torch.long).fill_(sos_token).to(input_ids.device.type)\n",
    "            for _ in range(max_len):\n",
    "                decoder_next_input, decoder_hidden = self.decoder(encoder_outputs, decoder_hidden, decoder_next_input)\n",
    "                decoder_outputs.append(decoder_next_input)\n",
    "\n",
    "                _, top_token_index = decoder_next_input.topk(1)\n",
    "                if top_token_index == eos_token:\n",
    "                    break\n",
    "                \n",
    "                decoder_next_input = top_token_index.squeeze(-1).detach()  # detach from history as input\n",
    "            decoder_outputs = torch.cat(decoder_outputs, dim=1)\n",
    "            decoder_outputs = self.logsoftmax(decoder_outputs)\n",
    "\n",
    "            _, generated_ids = decoder_outputs.topk(1)\n",
    "        return generated_ids.squeeze()\n",
    "\n"
   ]
  },
  {
   "cell_type": "code",
   "execution_count": 56,
   "metadata": {},
   "outputs": [
    {
     "name": "stderr",
     "output_type": "stream",
     "text": [
      "Train Epoch 0: 100%|██████████| 374/374 [00:29<00:00, 12.75it/s, loss=3.780]\n",
      "Valid Epoch 0: 100%|██████████| 94/94 [00:02<00:00, 38.06it/s, loss=4.329]\n"
     ]
    },
    {
     "name": "stdout",
     "output_type": "stream",
     "text": [
      "Saving Model With Loss 3.74545\n",
      "Train Loss: 4.51027| Valid Loss: 3.74545| Best Loss: 3.74545\n",
      "\n"
     ]
    },
    {
     "name": "stderr",
     "output_type": "stream",
     "text": [
      "Train Epoch 1: 100%|██████████| 374/374 [00:29<00:00, 12.86it/s, loss=3.030]\n",
      "Valid Epoch 1: 100%|██████████| 94/94 [00:02<00:00, 38.27it/s, loss=3.117]\n"
     ]
    },
    {
     "name": "stdout",
     "output_type": "stream",
     "text": [
      "Saving Model With Loss 3.29497\n",
      "Train Loss: 3.44489| Valid Loss: 3.29497| Best Loss: 3.29497\n",
      "\n"
     ]
    },
    {
     "name": "stderr",
     "output_type": "stream",
     "text": [
      "Train Epoch 2: 100%|██████████| 374/374 [00:29<00:00, 12.81it/s, loss=2.981]\n",
      "Valid Epoch 2: 100%|██████████| 94/94 [00:02<00:00, 38.19it/s, loss=3.094]\n"
     ]
    },
    {
     "name": "stdout",
     "output_type": "stream",
     "text": [
      "Saving Model With Loss 3.00557\n",
      "Train Loss: 3.02972| Valid Loss: 3.00557| Best Loss: 3.00557\n",
      "\n"
     ]
    },
    {
     "name": "stderr",
     "output_type": "stream",
     "text": [
      "Train Epoch 3: 100%|██████████| 374/374 [00:29<00:00, 12.59it/s, loss=2.548]\n",
      "Valid Epoch 3: 100%|██████████| 94/94 [00:02<00:00, 35.55it/s, loss=2.984]\n"
     ]
    },
    {
     "name": "stdout",
     "output_type": "stream",
     "text": [
      "Saving Model With Loss 2.79760\n",
      "Train Loss: 2.72716| Valid Loss: 2.79760| Best Loss: 2.79760\n",
      "\n"
     ]
    },
    {
     "name": "stderr",
     "output_type": "stream",
     "text": [
      "Train Epoch 4: 100%|██████████| 374/374 [00:29<00:00, 12.64it/s, loss=2.486]\n",
      "Valid Epoch 4: 100%|██████████| 94/94 [00:02<00:00, 35.70it/s, loss=2.417]\n"
     ]
    },
    {
     "name": "stdout",
     "output_type": "stream",
     "text": [
      "Saving Model With Loss 2.62855\n",
      "Train Loss: 2.48080| Valid Loss: 2.62855| Best Loss: 2.62855\n",
      "\n"
     ]
    },
    {
     "name": "stderr",
     "output_type": "stream",
     "text": [
      "Train Epoch 5: 100%|██████████| 374/374 [00:29<00:00, 12.68it/s, loss=2.244]\n",
      "Valid Epoch 5: 100%|██████████| 94/94 [00:02<00:00, 34.94it/s, loss=2.349]\n"
     ]
    },
    {
     "name": "stdout",
     "output_type": "stream",
     "text": [
      "Saving Model With Loss 2.49096\n",
      "Train Loss: 2.26636| Valid Loss: 2.49096| Best Loss: 2.49096\n",
      "\n"
     ]
    },
    {
     "name": "stderr",
     "output_type": "stream",
     "text": [
      "Train Epoch 6: 100%|██████████| 374/374 [00:29<00:00, 12.48it/s, loss=1.951]\n",
      "Valid Epoch 6: 100%|██████████| 94/94 [00:02<00:00, 36.02it/s, loss=2.255]\n"
     ]
    },
    {
     "name": "stdout",
     "output_type": "stream",
     "text": [
      "Saving Model With Loss 2.38131\n",
      "Train Loss: 2.07723| Valid Loss: 2.38131| Best Loss: 2.38131\n",
      "\n"
     ]
    },
    {
     "name": "stderr",
     "output_type": "stream",
     "text": [
      "Train Epoch 7: 100%|██████████| 374/374 [00:23<00:00, 15.79it/s, loss=1.869]\n",
      "Valid Epoch 7: 100%|██████████| 94/94 [00:01<00:00, 52.13it/s, loss=2.318]\n"
     ]
    },
    {
     "name": "stdout",
     "output_type": "stream",
     "text": [
      "Saving Model With Loss 2.28243\n",
      "Train Loss: 1.90391| Valid Loss: 2.28243| Best Loss: 2.28243\n",
      "\n"
     ]
    },
    {
     "name": "stderr",
     "output_type": "stream",
     "text": [
      "Train Epoch 8: 100%|██████████| 374/374 [00:22<00:00, 16.56it/s, loss=1.927]\n",
      "Valid Epoch 8: 100%|██████████| 94/94 [00:01<00:00, 53.07it/s, loss=2.726]\n"
     ]
    },
    {
     "name": "stdout",
     "output_type": "stream",
     "text": [
      "Saving Model With Loss 2.20376\n",
      "Train Loss: 1.74681| Valid Loss: 2.20376| Best Loss: 2.20376\n",
      "\n"
     ]
    },
    {
     "name": "stderr",
     "output_type": "stream",
     "text": [
      "Train Epoch 9: 100%|██████████| 374/374 [00:22<00:00, 16.34it/s, loss=1.576]\n",
      "Valid Epoch 9: 100%|██████████| 94/94 [00:01<00:00, 50.97it/s, loss=2.730]\n"
     ]
    },
    {
     "name": "stdout",
     "output_type": "stream",
     "text": [
      "Saving Model With Loss 2.13687\n",
      "Train Loss: 1.60042| Valid Loss: 2.13687| Best Loss: 2.13687\n",
      "\n"
     ]
    },
    {
     "name": "stderr",
     "output_type": "stream",
     "text": [
      "Train Epoch 10: 100%|██████████| 374/374 [00:23<00:00, 16.21it/s, loss=1.177]\n",
      "Valid Epoch 10: 100%|██████████| 94/94 [00:01<00:00, 51.86it/s, loss=1.973]\n"
     ]
    },
    {
     "name": "stdout",
     "output_type": "stream",
     "text": [
      "Saving Model With Loss 2.07880\n",
      "Train Loss: 1.46765| Valid Loss: 2.07880| Best Loss: 2.07880\n",
      "\n"
     ]
    },
    {
     "name": "stderr",
     "output_type": "stream",
     "text": [
      "Train Epoch 11: 100%|██████████| 374/374 [00:22<00:00, 16.42it/s, loss=1.336]\n",
      "Valid Epoch 11: 100%|██████████| 94/94 [00:01<00:00, 52.47it/s, loss=2.066]\n"
     ]
    },
    {
     "name": "stdout",
     "output_type": "stream",
     "text": [
      "Saving Model With Loss 2.03045\n",
      "Train Loss: 1.34397| Valid Loss: 2.03045| Best Loss: 2.03045\n",
      "\n"
     ]
    },
    {
     "name": "stderr",
     "output_type": "stream",
     "text": [
      "Train Epoch 12: 100%|██████████| 374/374 [00:22<00:00, 16.54it/s, loss=1.231]\n",
      "Valid Epoch 12: 100%|██████████| 94/94 [00:01<00:00, 52.62it/s, loss=2.058]\n"
     ]
    },
    {
     "name": "stdout",
     "output_type": "stream",
     "text": [
      "Saving Model With Loss 1.98748\n",
      "Train Loss: 1.22902| Valid Loss: 1.98748| Best Loss: 1.98748\n",
      "\n"
     ]
    },
    {
     "name": "stderr",
     "output_type": "stream",
     "text": [
      "Train Epoch 13: 100%|██████████| 374/374 [00:23<00:00, 16.19it/s, loss=1.183]\n",
      "Valid Epoch 13: 100%|██████████| 94/94 [00:01<00:00, 51.25it/s, loss=1.912]\n"
     ]
    },
    {
     "name": "stdout",
     "output_type": "stream",
     "text": [
      "Saving Model With Loss 1.95400\n",
      "Train Loss: 1.12527| Valid Loss: 1.95400| Best Loss: 1.95400\n",
      "\n"
     ]
    },
    {
     "name": "stderr",
     "output_type": "stream",
     "text": [
      "Train Epoch 14: 100%|██████████| 374/374 [00:25<00:00, 14.68it/s, loss=0.920]\n",
      "Valid Epoch 14: 100%|██████████| 94/94 [00:02<00:00, 40.53it/s, loss=1.987]\n"
     ]
    },
    {
     "name": "stdout",
     "output_type": "stream",
     "text": [
      "Saving Model With Loss 1.94274\n",
      "Train Loss: 1.02858| Valid Loss: 1.94274| Best Loss: 1.94274\n",
      "\n"
     ]
    },
    {
     "name": "stderr",
     "output_type": "stream",
     "text": [
      "Train Epoch 15: 100%|██████████| 374/374 [00:29<00:00, 12.67it/s, loss=0.972]\n",
      "Valid Epoch 15: 100%|██████████| 94/94 [00:02<00:00, 35.23it/s, loss=2.712]\n"
     ]
    },
    {
     "name": "stdout",
     "output_type": "stream",
     "text": [
      "Saving Model With Loss 1.91255\n",
      "Train Loss: 0.94021| Valid Loss: 1.91255| Best Loss: 1.91255\n",
      "\n"
     ]
    },
    {
     "name": "stderr",
     "output_type": "stream",
     "text": [
      "Train Epoch 16: 100%|██████████| 374/374 [00:29<00:00, 12.59it/s, loss=0.810]\n",
      "Valid Epoch 16: 100%|██████████| 94/94 [00:02<00:00, 35.77it/s, loss=1.940]\n"
     ]
    },
    {
     "name": "stdout",
     "output_type": "stream",
     "text": [
      "Saving Model With Loss 1.88857\n",
      "Train Loss: 0.85623| Valid Loss: 1.88857| Best Loss: 1.88857\n",
      "\n"
     ]
    },
    {
     "name": "stderr",
     "output_type": "stream",
     "text": [
      "Train Epoch 17: 100%|██████████| 374/374 [00:30<00:00, 12.32it/s, loss=0.813]\n",
      "Valid Epoch 17: 100%|██████████| 94/94 [00:02<00:00, 34.12it/s, loss=1.695]\n"
     ]
    },
    {
     "name": "stdout",
     "output_type": "stream",
     "text": [
      "Saving Model With Loss 1.87978\n",
      "Train Loss: 0.78056| Valid Loss: 1.87978| Best Loss: 1.87978\n",
      "\n"
     ]
    },
    {
     "name": "stderr",
     "output_type": "stream",
     "text": [
      "Train Epoch 18: 100%|██████████| 374/374 [00:30<00:00, 12.10it/s, loss=0.635]\n",
      "Valid Epoch 18: 100%|██████████| 94/94 [00:02<00:00, 33.49it/s, loss=1.750]\n"
     ]
    },
    {
     "name": "stdout",
     "output_type": "stream",
     "text": [
      "Saving Model With Loss 1.87036\n",
      "Train Loss: 0.71117| Valid Loss: 1.87036| Best Loss: 1.87036\n",
      "\n"
     ]
    },
    {
     "name": "stderr",
     "output_type": "stream",
     "text": [
      "Train Epoch 19: 100%|██████████| 374/374 [00:23<00:00, 15.79it/s, loss=0.721]\n",
      "Valid Epoch 19: 100%|██████████| 94/94 [00:01<00:00, 51.93it/s, loss=2.187]\n"
     ]
    },
    {
     "name": "stdout",
     "output_type": "stream",
     "text": [
      "Saving Model With Loss 1.86122\n",
      "Train Loss: 0.64657| Valid Loss: 1.86122| Best Loss: 1.86122\n",
      "\n"
     ]
    },
    {
     "name": "stderr",
     "output_type": "stream",
     "text": [
      "Train Epoch 20: 100%|██████████| 374/374 [00:23<00:00, 15.87it/s, loss=0.498]\n",
      "Valid Epoch 20: 100%|██████████| 94/94 [00:01<00:00, 51.89it/s, loss=2.196]\n"
     ]
    },
    {
     "name": "stdout",
     "output_type": "stream",
     "text": [
      "Saving Model With Loss 1.85770\n",
      "Train Loss: 0.58910| Valid Loss: 1.85770| Best Loss: 1.85770\n",
      "\n"
     ]
    },
    {
     "name": "stderr",
     "output_type": "stream",
     "text": [
      "Train Epoch 21: 100%|██████████| 374/374 [00:23<00:00, 16.02it/s, loss=0.589]\n",
      "Valid Epoch 21: 100%|██████████| 94/94 [00:01<00:00, 51.56it/s, loss=1.494]\n"
     ]
    },
    {
     "name": "stdout",
     "output_type": "stream",
     "text": [
      "Saving Model With Loss 1.84741\n",
      "Train Loss: 0.53640| Valid Loss: 1.84741| Best Loss: 1.84741\n",
      "\n"
     ]
    },
    {
     "name": "stderr",
     "output_type": "stream",
     "text": [
      "Train Epoch 22: 100%|██████████| 374/374 [00:23<00:00, 16.09it/s, loss=0.563]\n",
      "Valid Epoch 22: 100%|██████████| 94/94 [00:01<00:00, 51.60it/s, loss=1.997]\n"
     ]
    },
    {
     "name": "stdout",
     "output_type": "stream",
     "text": [
      "Train Loss: 0.48615| Valid Loss: 1.85511| Best Loss: 1.84741\n",
      "\n"
     ]
    },
    {
     "name": "stderr",
     "output_type": "stream",
     "text": [
      "Train Epoch 23: 100%|██████████| 374/374 [00:23<00:00, 16.11it/s, loss=0.457]\n",
      "Valid Epoch 23: 100%|██████████| 94/94 [00:01<00:00, 48.66it/s, loss=2.367]\n"
     ]
    },
    {
     "name": "stdout",
     "output_type": "stream",
     "text": [
      "Train Loss: 0.44147| Valid Loss: 1.86302| Best Loss: 1.84741\n",
      "\n"
     ]
    },
    {
     "name": "stderr",
     "output_type": "stream",
     "text": [
      "Train Epoch 24: 100%|██████████| 374/374 [00:23<00:00, 16.25it/s, loss=0.385]\n",
      "Valid Epoch 24: 100%|██████████| 94/94 [00:02<00:00, 38.39it/s, loss=1.965]\n"
     ]
    },
    {
     "name": "stdout",
     "output_type": "stream",
     "text": [
      "------------------------------------\n",
      "|Model can't improve, stop training|\n",
      "------------------------------------\n"
     ]
    },
    {
     "data": {
      "image/png": "[encoded data removed]",
      "text/plain": [
       "<Figure size 640x480 with 1 Axes>"
      ]
     },
     "metadata": {},
     "output_type": "display_data"
    }
   ],
   "source": [
    "import torch.optim as optim\n",
    "from trainer import Trainer\n",
    "\n",
    "# 主程式部分\n",
    "device = torch.device('cuda' if torch.cuda.is_available() else 'cpu')\n",
    "hidden_size = 768\n",
    "encoder = EncoderGRU(\n",
    "    vocab_size=len(src_tokenizer), \n",
    "    hidden_size=hidden_size, \n",
    "    padding_idx=src_tokenizer.pad_token_id\n",
    ")\n",
    "\n",
    "decoder = DecoderGRU(\n",
    "    attention = BahdanauAttention(hidden_size=hidden_size),\n",
    "    hidden_size=hidden_size, \n",
    "    output_size=len(tgt_tokenizer), \n",
    "    padding_idx=tgt_tokenizer.pad_token_id\n",
    ")\n",
    "\n",
    "model = Attentionseq2seq(\n",
    "    encoder = encoder,\n",
    "    decoder = decoder,\n",
    "    padding_idx = tgt_tokenizer.pad_token_id\n",
    ").to(device)\n",
    "\n",
    "optimizer_e = optim.Adam(encoder.parameters(), lr=1e-4)\n",
    "optimizer_d = optim.Adam(decoder.parameters(), lr=1e-4)\n",
    "trainer = Trainer(\n",
    "    epochs=30, \n",
    "    train_loader=train_loader, \n",
    "    valid_loader=valid_loader, \n",
    "    model=model, \n",
    "    optimizer=[optimizer_e, optimizer_d],\n",
    "    early_stopping=3\n",
    ")\n",
    "trainer.train()"
   ]
  },
  {
   "cell_type": "code",
   "execution_count": 57,
   "metadata": {},
   "outputs": [
    {
     "name": "stderr",
     "output_type": "stream",
     "text": [
      "Train Epoch 0: 100%|██████████| 374/374 [01:11<00:00,  5.26it/s, loss=3.645]\n",
      "Valid Epoch 0: 100%|██████████| 94/94 [00:06<00:00, 15.03it/s, loss=3.722]\n"
     ]
    },
    {
     "name": "stdout",
     "output_type": "stream",
     "text": [
      "Saving Model With Loss 3.74700\n",
      "Train Loss: 4.52063| Valid Loss: 3.74700| Best Loss: 3.74700\n",
      "\n"
     ]
    },
    {
     "name": "stderr",
     "output_type": "stream",
     "text": [
      "Train Epoch 1: 100%|██████████| 374/374 [01:20<00:00,  4.63it/s, loss=3.086]\n",
      "Valid Epoch 1: 100%|██████████| 94/94 [00:05<00:00, 15.75it/s, loss=3.117]\n"
     ]
    },
    {
     "name": "stdout",
     "output_type": "stream",
     "text": [
      "Saving Model With Loss 3.27308\n",
      "Train Loss: 3.43460| Valid Loss: 3.27308| Best Loss: 3.27308\n",
      "\n"
     ]
    },
    {
     "name": "stderr",
     "output_type": "stream",
     "text": [
      "Train Epoch 2: 100%|██████████| 374/374 [01:12<00:00,  5.14it/s, loss=2.895]\n",
      "Valid Epoch 2: 100%|██████████| 94/94 [00:06<00:00, 15.31it/s, loss=2.748]\n"
     ]
    },
    {
     "name": "stdout",
     "output_type": "stream",
     "text": [
      "Saving Model With Loss 2.98093\n",
      "Train Loss: 3.00892| Valid Loss: 2.98093| Best Loss: 2.98093\n",
      "\n"
     ]
    },
    {
     "name": "stderr",
     "output_type": "stream",
     "text": [
      "Train Epoch 3: 100%|██████████| 374/374 [01:13<00:00,  5.09it/s, loss=2.578]\n",
      "Valid Epoch 3: 100%|██████████| 94/94 [00:05<00:00, 15.70it/s, loss=2.835]\n"
     ]
    },
    {
     "name": "stdout",
     "output_type": "stream",
     "text": [
      "Saving Model With Loss 2.78210\n",
      "Train Loss: 2.71017| Valid Loss: 2.78210| Best Loss: 2.78210\n",
      "\n"
     ]
    },
    {
     "name": "stderr",
     "output_type": "stream",
     "text": [
      "Train Epoch 4: 100%|██████████| 374/374 [01:13<00:00,  5.12it/s, loss=2.540]\n",
      "Valid Epoch 4: 100%|██████████| 94/94 [00:03<00:00, 24.05it/s, loss=2.886]\n"
     ]
    },
    {
     "name": "stdout",
     "output_type": "stream",
     "text": [
      "Saving Model With Loss 2.62037\n",
      "Train Loss: 2.46968| Valid Loss: 2.62037| Best Loss: 2.62037\n",
      "\n"
     ]
    },
    {
     "name": "stderr",
     "output_type": "stream",
     "text": [
      "Train Epoch 5: 100%|██████████| 374/374 [01:13<00:00,  5.12it/s, loss=2.390]\n",
      "Valid Epoch 5: 100%|██████████| 94/94 [00:05<00:00, 15.71it/s, loss=2.238]\n"
     ]
    },
    {
     "name": "stdout",
     "output_type": "stream",
     "text": [
      "Saving Model With Loss 2.48475\n",
      "Train Loss: 2.26083| Valid Loss: 2.48475| Best Loss: 2.48475\n",
      "\n"
     ]
    },
    {
     "name": "stderr",
     "output_type": "stream",
     "text": [
      "Train Epoch 6: 100%|██████████| 374/374 [01:11<00:00,  5.23it/s, loss=2.134]\n",
      "Valid Epoch 6: 100%|██████████| 94/94 [00:05<00:00, 15.68it/s, loss=2.281]\n"
     ]
    },
    {
     "name": "stdout",
     "output_type": "stream",
     "text": [
      "Saving Model With Loss 2.37273\n",
      "Train Loss: 2.07325| Valid Loss: 2.37273| Best Loss: 2.37273\n",
      "\n"
     ]
    },
    {
     "name": "stderr",
     "output_type": "stream",
     "text": [
      "Train Epoch 7: 100%|██████████| 374/374 [01:11<00:00,  5.26it/s, loss=1.731]\n",
      "Valid Epoch 7: 100%|██████████| 94/94 [00:05<00:00, 15.73it/s, loss=2.408]\n"
     ]
    },
    {
     "name": "stdout",
     "output_type": "stream",
     "text": [
      "Saving Model With Loss 2.28417\n",
      "Train Loss: 1.90297| Valid Loss: 2.28417| Best Loss: 2.28417\n",
      "\n"
     ]
    },
    {
     "name": "stderr",
     "output_type": "stream",
     "text": [
      "Train Epoch 8: 100%|██████████| 374/374 [01:11<00:00,  5.24it/s, loss=1.905]\n",
      "Valid Epoch 8: 100%|██████████| 94/94 [00:06<00:00, 15.12it/s, loss=2.248]\n"
     ]
    },
    {
     "name": "stdout",
     "output_type": "stream",
     "text": [
      "Saving Model With Loss 2.19568\n",
      "Train Loss: 1.74620| Valid Loss: 2.19568| Best Loss: 2.19568\n",
      "\n"
     ]
    },
    {
     "name": "stderr",
     "output_type": "stream",
     "text": [
      "Train Epoch 9: 100%|██████████| 374/374 [01:14<00:00,  5.05it/s, loss=1.393]\n",
      "Valid Epoch 9: 100%|██████████| 94/94 [00:06<00:00, 15.63it/s, loss=2.119]\n"
     ]
    },
    {
     "name": "stdout",
     "output_type": "stream",
     "text": [
      "Saving Model With Loss 2.13571\n",
      "Train Loss: 1.60216| Valid Loss: 2.13571| Best Loss: 2.13571\n",
      "\n"
     ]
    },
    {
     "name": "stderr",
     "output_type": "stream",
     "text": [
      "Train Epoch 10: 100%|██████████| 374/374 [01:13<00:00,  5.12it/s, loss=1.278]\n",
      "Valid Epoch 10: 100%|██████████| 94/94 [00:06<00:00, 15.47it/s, loss=2.329]\n"
     ]
    },
    {
     "name": "stdout",
     "output_type": "stream",
     "text": [
      "Saving Model With Loss 2.07435\n",
      "Train Loss: 1.47939| Valid Loss: 2.07435| Best Loss: 2.07435\n",
      "\n"
     ]
    },
    {
     "name": "stderr",
     "output_type": "stream",
     "text": [
      "Train Epoch 11: 100%|██████████| 374/374 [01:13<00:00,  5.12it/s, loss=1.291]\n",
      "Valid Epoch 11: 100%|██████████| 94/94 [00:03<00:00, 23.85it/s, loss=1.954]\n"
     ]
    },
    {
     "name": "stdout",
     "output_type": "stream",
     "text": [
      "Saving Model With Loss 2.02481\n",
      "Train Loss: 1.35044| Valid Loss: 2.02481| Best Loss: 2.02481\n",
      "\n"
     ]
    },
    {
     "name": "stderr",
     "output_type": "stream",
     "text": [
      "Train Epoch 12: 100%|██████████| 374/374 [01:16<00:00,  4.87it/s, loss=1.497]\n",
      "Valid Epoch 12: 100%|██████████| 94/94 [00:06<00:00, 14.18it/s, loss=1.682]\n"
     ]
    },
    {
     "name": "stdout",
     "output_type": "stream",
     "text": [
      "Saving Model With Loss 1.98595\n",
      "Train Loss: 1.23838| Valid Loss: 1.98595| Best Loss: 1.98595\n",
      "\n"
     ]
    },
    {
     "name": "stderr",
     "output_type": "stream",
     "text": [
      "Train Epoch 13: 100%|██████████| 374/374 [01:19<00:00,  4.69it/s, loss=1.166]\n",
      "Valid Epoch 13: 100%|██████████| 94/94 [00:06<00:00, 14.56it/s, loss=1.906]\n"
     ]
    },
    {
     "name": "stdout",
     "output_type": "stream",
     "text": [
      "Saving Model With Loss 1.95188\n",
      "Train Loss: 1.13462| Valid Loss: 1.95188| Best Loss: 1.95188\n",
      "\n"
     ]
    },
    {
     "name": "stderr",
     "output_type": "stream",
     "text": [
      "Train Epoch 14: 100%|██████████| 374/374 [00:46<00:00,  8.01it/s, loss=0.952]\n",
      "Valid Epoch 14: 100%|██████████| 94/94 [00:01<00:00, 51.46it/s, loss=1.729]\n"
     ]
    },
    {
     "name": "stdout",
     "output_type": "stream",
     "text": [
      "Saving Model With Loss 1.92407\n",
      "Train Loss: 1.03890| Valid Loss: 1.92407| Best Loss: 1.92407\n",
      "\n"
     ]
    },
    {
     "name": "stderr",
     "output_type": "stream",
     "text": [
      "Train Epoch 15: 100%|██████████| 374/374 [00:24<00:00, 15.45it/s, loss=1.016]\n",
      "Valid Epoch 15: 100%|██████████| 94/94 [00:01<00:00, 48.81it/s, loss=1.645]\n"
     ]
    },
    {
     "name": "stdout",
     "output_type": "stream",
     "text": [
      "Saving Model With Loss 1.90080\n",
      "Train Loss: 0.95091| Valid Loss: 1.90080| Best Loss: 1.90080\n",
      "\n"
     ]
    },
    {
     "name": "stderr",
     "output_type": "stream",
     "text": [
      "Train Epoch 16: 100%|██████████| 374/374 [00:24<00:00, 15.29it/s, loss=0.898]\n",
      "Valid Epoch 16: 100%|██████████| 94/94 [00:01<00:00, 48.77it/s, loss=2.182]\n"
     ]
    },
    {
     "name": "stdout",
     "output_type": "stream",
     "text": [
      "Saving Model With Loss 1.88469\n",
      "Train Loss: 0.86965| Valid Loss: 1.88469| Best Loss: 1.88469\n",
      "\n"
     ]
    },
    {
     "name": "stderr",
     "output_type": "stream",
     "text": [
      "Train Epoch 17: 100%|██████████| 374/374 [00:24<00:00, 15.22it/s, loss=0.868]\n",
      "Valid Epoch 17: 100%|██████████| 94/94 [00:01<00:00, 50.49it/s, loss=2.286]\n"
     ]
    },
    {
     "name": "stdout",
     "output_type": "stream",
     "text": [
      "Saving Model With Loss 1.87546\n",
      "Train Loss: 0.79307| Valid Loss: 1.87546| Best Loss: 1.87546\n",
      "\n"
     ]
    },
    {
     "name": "stderr",
     "output_type": "stream",
     "text": [
      "Train Epoch 18: 100%|██████████| 374/374 [00:24<00:00, 15.55it/s, loss=0.796]\n",
      "Valid Epoch 18: 100%|██████████| 94/94 [00:01<00:00, 49.50it/s, loss=2.437]\n"
     ]
    },
    {
     "name": "stdout",
     "output_type": "stream",
     "text": [
      "Saving Model With Loss 1.86824\n",
      "Train Loss: 0.72407| Valid Loss: 1.86824| Best Loss: 1.86824\n",
      "\n"
     ]
    },
    {
     "name": "stderr",
     "output_type": "stream",
     "text": [
      "Train Epoch 19: 100%|██████████| 374/374 [00:23<00:00, 15.64it/s, loss=0.663]\n",
      "Valid Epoch 19: 100%|██████████| 94/94 [00:01<00:00, 51.74it/s, loss=1.860]\n"
     ]
    },
    {
     "name": "stdout",
     "output_type": "stream",
     "text": [
      "Saving Model With Loss 1.85165\n",
      "Train Loss: 0.66012| Valid Loss: 1.85165| Best Loss: 1.85165\n",
      "\n"
     ]
    },
    {
     "name": "stderr",
     "output_type": "stream",
     "text": [
      "Train Epoch 20: 100%|██████████| 374/374 [00:24<00:00, 15.45it/s, loss=0.670]\n",
      "Valid Epoch 20: 100%|██████████| 94/94 [00:01<00:00, 47.40it/s, loss=1.971]\n"
     ]
    },
    {
     "name": "stdout",
     "output_type": "stream",
     "text": [
      "Train Loss: 0.59980| Valid Loss: 1.85573| Best Loss: 1.85165\n",
      "\n"
     ]
    },
    {
     "name": "stderr",
     "output_type": "stream",
     "text": [
      "Train Epoch 21: 100%|██████████| 374/374 [00:23<00:00, 15.68it/s, loss=0.668]\n",
      "Valid Epoch 21: 100%|██████████| 94/94 [00:01<00:00, 50.62it/s, loss=1.602]\n"
     ]
    },
    {
     "name": "stdout",
     "output_type": "stream",
     "text": [
      "Saving Model With Loss 1.84276\n",
      "Train Loss: 0.54630| Valid Loss: 1.84276| Best Loss: 1.84276\n",
      "\n"
     ]
    },
    {
     "name": "stderr",
     "output_type": "stream",
     "text": [
      "Train Epoch 22: 100%|██████████| 374/374 [00:24<00:00, 15.48it/s, loss=0.538]\n",
      "Valid Epoch 22: 100%|██████████| 94/94 [00:01<00:00, 51.09it/s, loss=1.623]\n"
     ]
    },
    {
     "name": "stdout",
     "output_type": "stream",
     "text": [
      "Train Loss: 0.49671| Valid Loss: 1.84493| Best Loss: 1.84276\n",
      "\n"
     ]
    },
    {
     "name": "stderr",
     "output_type": "stream",
     "text": [
      "Train Epoch 23: 100%|██████████| 374/374 [00:23<00:00, 15.65it/s, loss=0.484]\n",
      "Valid Epoch 23: 100%|██████████| 94/94 [00:01<00:00, 47.11it/s, loss=2.167]\n"
     ]
    },
    {
     "name": "stdout",
     "output_type": "stream",
     "text": [
      "Train Loss: 0.45202| Valid Loss: 1.84370| Best Loss: 1.84276\n",
      "\n"
     ]
    },
    {
     "name": "stderr",
     "output_type": "stream",
     "text": [
      "Train Epoch 24: 100%|██████████| 374/374 [00:23<00:00, 15.65it/s, loss=0.425]\n",
      "Valid Epoch 24: 100%|██████████| 94/94 [00:01<00:00, 50.77it/s, loss=2.191]\n"
     ]
    },
    {
     "name": "stdout",
     "output_type": "stream",
     "text": [
      "------------------------------------\n",
      "|Model can't improve, stop training|\n",
      "------------------------------------\n"
     ]
    },
    {
     "data": {
      "image/png": "[encoded data removed]",
      "text/plain": [
       "<Figure size 640x480 with 1 Axes>"
      ]
     },
     "metadata": {},
     "output_type": "display_data"
    }
   ],
   "source": [
    "import torch.optim as optim\n",
    "from trainer import Trainer\n",
    "\n",
    "epochs = 30\n",
    "optimizer_e= optim.AdamW(encoder.parameters(), lr=1e-4)\n",
    "optimizer_d= optim.AdamW(decoder.parameters(), lr=1e-4)\n",
    "\n",
    "trainer = Trainer(\n",
    "    epochs=epochs, \n",
    "    train_loader=train_loader, \n",
    "    valid_loader=valid_loader, \n",
    "    model=model, \n",
    "    optimizer=[optimizer_e, optimizer_d],\n",
    "    early_stopping=3\n",
    ")\n",
    "trainer.train()"
   ]
  },
  {
   "cell_type": "code",
   "execution_count": 11,
   "metadata": {},
   "outputs": [
    {
     "name": "stdout",
     "output_type": "stream",
     "text": [
      "\n",
      "輸入文字: 他要愛。\n",
      "目標文字: He wants affection.\n",
      "翻譯文字: [CLS] he's love. [SEP]\n",
      "\n",
      "輸入文字: 別再讓我做那事了。\n",
      "目標文字: Don't make me do that again.\n",
      "翻譯文字: [CLS] don't do that again. [SEP]\n",
      "\n",
      "輸入文字: 我們愛湯姆。\n",
      "目標文字: We love Tom.\n",
      "翻譯文字: [CLS] we love tom. [SEP]\n"
     ]
    }
   ],
   "source": [
    "model.load_state_dict(torch.load('model.ckpt'))\n",
    "model.eval()\n",
    "\n",
    "for idx in range(3):\n",
    "    input_ids = src_tokenizer(x_valid[idx], max_length=256, truncation=True, padding=\"longest\", return_tensors='pt').to(device).input_ids[:, 1:]\n",
    "    generated_ids = model.generate(input_ids, max_len=20)\n",
    "    print('\\n輸入文字:', x_valid[idx])\n",
    "    print('目標文字:', y_valid[idx])\n",
    "    print('翻譯文字:', tgt_tokenizer.decode(generated_ids))"
   ]
  },
  {
   "cell_type": "code",
   "execution_count": null,
   "metadata": {},
   "outputs": [],
   "source": []
  },
  {
   "cell_type": "code",
   "execution_count": null,
   "metadata": {},
   "outputs": [],
   "source": []
  },
  {
   "cell_type": "code",
   "execution_count": null,
   "metadata": {},
   "outputs": [],
   "source": []
  },
  {
   "cell_type": "code",
   "execution_count": null,
   "metadata": {},
   "outputs": [],
   "source": []
  },
  {
   "cell_type": "code",
   "execution_count": null,
   "metadata": {},
   "outputs": [],
   "source": []
  }
 ],
 "metadata": {
  "kernelspec": {
   "display_name": "Python 3",
   "language": "python",
   "name": "python3"
  },
  "language_info": {
   "codemirror_mode": {
    "name": "ipython",
    "version": 3
   },
   "file_extension": ".py",
   "mimetype": "text/x-python",
   "name": "python",
   "nbconvert_exporter": "python",
   "pygments_lexer": "ipython3",
   "version": "3.8.10"
  }
 },
 "nbformat": 4,
 "nbformat_minor": 2
}
