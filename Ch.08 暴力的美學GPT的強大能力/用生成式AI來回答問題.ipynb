{
 "cells": [
  {
   "cell_type": "code",
   "execution_count": 1,
   "metadata": {},
   "outputs": [],
   "source": [
    "import pandas as pd\n",
    "from sklearn.model_selection import train_test_split\n",
    "from transformers import AutoTokenizer\n",
    "\n",
    "tokenizer = AutoTokenizer.from_pretrained(\"openai-community/gpt2\")\n",
    "# 由於GPT-2沒有PAD token所以使用EOS Token\n",
    "tokenizer.pad_token_id = tokenizer.eos_token_id \n",
    "\n",
    "# 讀取CSV檔案並只選取指定的3個欄位\n",
    "df = pd.read_csv('squad2.0_converted.csv', usecols=['context', 'question', 'answer'])\n",
    "df = df.fillna('nan')"
   ]
  },
  {
   "cell_type": "code",
   "execution_count": 2,
   "metadata": {},
   "outputs": [],
   "source": [
    "# 加入Prompt\n",
    "df['context'] = '### Context:\\n' + df['context']\n",
    "df['question'] = '\\n### Question:\\n' + df['question']\n",
    "\n",
    "# 在答案後方加入EOS token表示文本結尾\n",
    "df['answer'] = '\\n### Answer:\\n' + df['answer'] + tokenizer.eos_token "
   ]
  },
  {
   "cell_type": "code",
   "execution_count": 3,
   "metadata": {},
   "outputs": [
    {
     "name": "stdout",
     "output_type": "stream",
     "text": [
      "### Context:\n",
      "Beyoncé Giselle Knowles-Carter (/biːˈjɒnseɪ/ bee-YON-say) (born September 4, 1981) is an American singer, songwriter, record producer and actress. Born and raised in Houston, Texas, she performed in various singing and dancing competitions as a child, and rose to fame in the late 1990s as lead singer of R&B girl-group Destiny's Child. Managed by her father, Mathew Knowles, the group became one of the world's best-selling girl groups of all time. Their hiatus saw the release of Beyoncé's debut album, Dangerously in Love (2003), which established her as a solo artist worldwide, earned five Grammy Awards and featured the Billboard Hot 100 number-one singles \"Crazy in Love\" and \"Baby Boy\".\n",
      "### Question:\n",
      "When did Beyonce start becoming popular?\n",
      "### Answer:\n",
      "in the late 1990s<|endoftext|>\n"
     ]
    }
   ],
   "source": [
    "train_df, valid_df = train_test_split(df, train_size=0.8, random_state=46, shuffle=True)\n",
    "print(train_df['context'][0], end='')\n",
    "print(train_df['question'][0], end='')\n",
    "print(train_df['answer'][0])"
   ]
  },
  {
   "cell_type": "code",
   "execution_count": 4,
   "metadata": {},
   "outputs": [],
   "source": [
    "import torch\n",
    "from torch.utils.data import Dataset, DataLoader\n",
    "\n",
    "class SquadDataset(Dataset):\n",
    "    def __init__(self, dataframe, tokenizer):\n",
    "        self.dataframe = dataframe\n",
    "        self.tokenizer = tokenizer\n",
    "\n",
    "    def __getitem__(self, index):\n",
    "        item = self.dataframe.iloc[index]\n",
    "        return item['context'], item['question'], item['answer']\n",
    "       \n",
    "    def __len__(self):\n",
    "        return len(self.dataframe)\n",
    "    \n",
    "    # 將文本進行分詞\n",
    "    def tokenize_data(self, texts, max_length=512):\n",
    "        tokenized_inputs = self.tokenizer(\n",
    "            list(texts),\n",
    "            truncation=True,\n",
    "            padding='longest',\n",
    "            max_length=max_length,\n",
    "            return_tensors='pt',\n",
    "        )\n",
    "        \n",
    "        return tokenized_inputs.input_ids, tokenized_inputs.attention_mask\n",
    "\n",
    "    # 定義數據加載過程中的數據整理方法\n",
    "    def collate_fn(self, batch):\n",
    "        contexts, questions, answers = zip(*batch)\n",
    "        \n",
    "        # 輸入和答案\n",
    "        question_ids, question_attention_mask = self.tokenize_data(questions)\n",
    "        answer_ids, answer_attention_mask = self.tokenize_data(answers)\n",
    "        context_ids, context_attention_mask = self.tokenize_data(contexts, max_length=1024-answer_ids.shape[1]-question_ids.shape[1])\n",
    "       \n",
    "\n",
    "        # 模型的輸入 = context_ids + question_ids + answer_ids\n",
    "        combined_input_ids = torch.cat((context_ids, question_ids, answer_ids), dim=-1)\n",
    "        # 模型的MASK = context_attention_mask + question_attention_mask + answer_attention_mask\n",
    "        combined_attention_mask = torch.cat((context_attention_mask, question_attention_mask, answer_attention_mask), dim=-1)\n",
    "\n",
    "        # 模型的標籤 = context_ids * [-100] + question_ids * [-100] + answer_ids + [EOS] \n",
    "        context_ignore_mask = torch.full((context_ids.shape[0], context_ids.shape[-1]), -100) # 產生context_ids * [-100]\n",
    "        question_ignore_mask = torch.full((question_ids.shape[0], question_ids.shape[-1]), -100) # 產生question_ids * [-100]\n",
    "        answer_ignore_indices = (answer_attention_mask == 0) # 找出Answer的[PAD] idx\n",
    "        answer_ids[answer_ignore_indices] = -100 # 將Answer為[PAD]的部分轉換成-100\n",
    "        combined_answers = torch.cat((context_ignore_mask, question_ignore_mask, answer_ids), dim=-1) #context_ignore_mask + question_ignore_mask + answer_ids\n",
    "\n",
    "        return {\n",
    "            'input_ids': combined_input_ids,\n",
    "            'attention_mask': combined_attention_mask,\n",
    "            'labels': combined_answers,\n",
    "        }\n",
    "\n",
    "# 建立資料集\n",
    "trainset = SquadDataset(train_df, tokenizer)\n",
    "validset = SquadDataset(valid_df, tokenizer)\n",
    "\n",
    "# 創建 DataLoader\n",
    "train_loader = DataLoader(trainset, batch_size=4, shuffle=True, collate_fn=trainset.collate_fn)\n",
    "valid_loader = DataLoader(validset, batch_size=4, shuffle=True, collate_fn=validset.collate_fn)\n"
   ]
  },
  {
   "cell_type": "code",
   "execution_count": 5,
   "metadata": {},
   "outputs": [],
   "source": [
    "import torch.optim as optim\n",
    "from transformers import get_cosine_with_hard_restarts_schedule_with_warmup\n",
    "from transformers import AutoModelForCausalLM\n",
    "\n",
    "# 訓練設置\n",
    "device = torch.device('cuda' if torch.cuda.is_available() else 'cpu')\n",
    "model = AutoModelForCausalLM.from_pretrained(\"openai-community/gpt2\").to(device)\n",
    "\n",
    "optimizer = optim.AdamW(model.parameters(), lr=5e-5)\n",
    "scheduler = get_cosine_with_hard_restarts_schedule_with_warmup(\n",
    "        optimizer, \n",
    "        num_warmup_steps=len(train_loader) * 0.2, \n",
    "        num_training_steps=len(train_loader) * 10, \n",
    "        num_cycles=1, \n",
    ")"
   ]
  },
  {
   "cell_type": "code",
   "execution_count": null,
   "metadata": {},
   "outputs": [
    {
     "name": "stderr",
     "output_type": "stream",
     "text": [
      "Train Epoch 0: 100%|██████████| 26021/26021 [27:11<00:00, 15.95it/s, loss=0.968]\n",
      "Valid Epoch 0: 100%|██████████| 6506/6506 [02:27<00:00, 44.04it/s, loss=0.021]\n"
     ]
    },
    {
     "name": "stdout",
     "output_type": "stream",
     "text": [
      "Saving Model With Loss 0.54285\n",
      "Train Loss: 0.65651| Valid Loss: 0.54285| Best Loss: 0.54285\n",
      "\n"
     ]
    },
    {
     "name": "stderr",
     "output_type": "stream",
     "text": [
      "Train Epoch 1: 100%|██████████| 26021/26021 [27:12<00:00, 15.93it/s, loss=0.569]\n",
      "Valid Epoch 1: 100%|██████████| 6506/6506 [02:29<00:00, 43.44it/s, loss=0.579]\n"
     ]
    },
    {
     "name": "stdout",
     "output_type": "stream",
     "text": [
      "Saving Model With Loss 0.50105\n",
      "Train Loss: 0.51836| Valid Loss: 0.50105| Best Loss: 0.50105\n",
      "\n"
     ]
    },
    {
     "name": "stderr",
     "output_type": "stream",
     "text": [
      "Train Epoch 2: 100%|██████████| 26021/26021 [27:13<00:00, 15.93it/s, loss=0.666]\n",
      "Valid Epoch 2: 100%|██████████| 6506/6506 [02:28<00:00, 43.94it/s, loss=0.169]\n"
     ]
    },
    {
     "name": "stdout",
     "output_type": "stream",
     "text": [
      "Saving Model With Loss 0.48696\n",
      "Train Loss: 0.40478| Valid Loss: 0.48696| Best Loss: 0.48696\n",
      "\n"
     ]
    },
    {
     "name": "stderr",
     "output_type": "stream",
     "text": [
      "Train Epoch 3: 100%|██████████| 26021/26021 [27:23<00:00, 15.83it/s, loss=0.227]\n",
      "Valid Epoch 3: 100%|██████████| 6506/6506 [02:29<00:00, 43.55it/s, loss=0.441]\n"
     ]
    },
    {
     "name": "stdout",
     "output_type": "stream",
     "text": [
      "Saving Model With Loss 0.47061\n",
      "Train Loss: 0.30350| Valid Loss: 0.47061| Best Loss: 0.47061\n",
      "\n"
     ]
    },
    {
     "name": "stderr",
     "output_type": "stream",
     "text": [
      "Train Epoch 4: 100%|██████████| 26021/26021 [27:23<00:00, 15.84it/s, loss=0.550]\n",
      "Valid Epoch 4: 100%|██████████| 6506/6506 [02:27<00:00, 44.03it/s, loss=0.625]\n"
     ]
    },
    {
     "name": "stdout",
     "output_type": "stream",
     "text": [
      "Train Loss: 0.21038| Valid Loss: 0.48044| Best Loss: 0.47061\n",
      "\n"
     ]
    },
    {
     "name": "stderr",
     "output_type": "stream",
     "text": [
      "Train Epoch 5: 100%|██████████| 26021/26021 [27:23<00:00, 15.83it/s, loss=0.090]\n",
      "Valid Epoch 5: 100%|██████████| 6506/6506 [02:28<00:00, 43.72it/s, loss=0.584]\n"
     ]
    },
    {
     "name": "stdout",
     "output_type": "stream",
     "text": [
      "Train Loss: 0.13366| Valid Loss: 0.48269| Best Loss: 0.47061\n",
      "\n"
     ]
    },
    {
     "name": "stderr",
     "output_type": "stream",
     "text": [
      "Train Epoch 6: 100%|██████████| 26021/26021 [27:23<00:00, 15.84it/s, loss=0.027]\n",
      "Valid Epoch 6: 100%|██████████| 6506/6506 [02:28<00:00, 43.84it/s, loss=0.653]\n"
     ]
    },
    {
     "name": "stdout",
     "output_type": "stream",
     "text": [
      "------------------------------------\n",
      "|Model can't improve, stop training|\n",
      "------------------------------------\n"
     ]
    },
    {
     "data": {
      "image/png": "[encoded data removed]",
      "text/plain": [
       "<Figure size 640x480 with 1 Axes>"
      ]
     },
     "metadata": {},
     "output_type": "display_data"
    }
   ],
   "source": [
    "from trainer import Trainer\n",
    "trainer = Trainer(\n",
    "    epochs=10, \n",
    "    train_loader=train_loader, \n",
    "    valid_loader=valid_loader,\n",
    "    model=model, \n",
    "    optimizer=[optimizer],\n",
    "    scheduler=[scheduler],\n",
    "    early_stopping=3,\n",
    "    device=device\n",
    ")\n",
    "trainer.train()"
   ]
  },
  {
   "cell_type": "code",
   "execution_count": 6,
   "metadata": {},
   "outputs": [
    {
     "name": "stdout",
     "output_type": "stream",
     "text": [
      "### Context:\n",
      "At her Silver Jubilee in 1977, the crowds and celebrations were genuinely enthusiastic, but in the 1980s, public criticism of the royal family increased, as the personal and working lives of Elizabeth's children came under media scrutiny. Elizabeth's popularity sank to a low point in the 1990s. Under pressure from public opinion, she began to pay income tax for the first time, and Buckingham Palace was opened to the public. Discontent with the monarchy reached its peak on the death of Diana, Princess of Wales, though Elizabeth's personal popularity and support for the monarchy rebounded after her live television broadcast to the world five days after Diana's death.\n",
      "\n",
      "### Question:\n",
      "What did Elizabeth start paying in the 1990 s?\n",
      "\n",
      "### Answer:\n",
      "income tax\n",
      "\n",
      "### Model Answer:\n",
      "income tax\n"
     ]
    }
   ],
   "source": [
    "def inference(model, tokenizer, context, question, device):\n",
    "    # 準備輸入數據\n",
    "    inference_data = f\"{context}{question}\\n### Answer:\\n\"\n",
    "    # 進行編碼和截斷\n",
    "    try:\n",
    "        inputs = tokenizer(inference_data, max_length=1024, truncation=True, return_tensors='pt').to(device)\n",
    "        # 禁用梯度計算，進行生成\n",
    "        with torch.no_grad():\n",
    "            outputs = model.generate(**inputs, max_new_tokens=1024, do_sample=False)\n",
    "        \n",
    "        # 解碼並提取答案部分\n",
    "        generated_text = tokenizer.decode(outputs[0], skip_special_tokens=True)\n",
    "        answer = generated_text.split('\\n### Answer:\\n')[1].strip()\n",
    "        \n",
    "        return answer\n",
    "    except:\n",
    "        return 'Error'\n",
    "\n",
    "# 載入模型和設定評估模式\n",
    "model.load_state_dict(torch.load('model.ckpt'))\n",
    "model.eval()\n",
    "\n",
    "# 指定要進行推理的索引\n",
    "idx = 7\n",
    "\n",
    "# 準備推理資料\n",
    "context = valid_df['context'].values[idx]\n",
    "question = valid_df['question'].values[idx]\n",
    "answer = valid_df['answer'].values[idx]\n",
    "\n",
    "\n",
    "# 進行推理\n",
    "model.generation_config.pad_token_id = tokenizer.eos_token_id\n",
    "model_answer = inference(model, tokenizer, context, question, device)\n",
    "\n",
    "\n",
    "# 輸出原始上下文、問題、真實答案和模型生成的答案\n",
    "print(f\"{context}\")\n",
    "print(f\"{question}\")\n",
    "print(f\"{answer.split(tokenizer.eos_token)[0]}\")\n",
    "print(\"\\n### Model Answer:\\n\" + model_answer)\n"
   ]
  },
  {
   "cell_type": "code",
   "execution_count": 7,
   "metadata": {},
   "outputs": [
    {
     "name": "stderr",
     "output_type": "stream",
     "text": [
      "This is a friendly reminder - the current text generation call will exceed the model's predefined maximum length (1024). Depending on the model, you may observe exceptions, performance degradation, or nothing at all.\n"
     ]
    },
    {
     "name": "stdout",
     "output_type": "stream",
     "text": [
      "模型準確率: 16.90%\n"
     ]
    }
   ],
   "source": [
    "def calculate_accuracy(model, tokenizer, valid_df, validset, device):\n",
    "    contexts = valid_df['context'].values\n",
    "    questions = valid_df['question'].values\n",
    "    answers = valid_df['answer'].values\n",
    "    correct = 0\n",
    "    for context, question, true_answer in zip(contexts, questions, answers):\n",
    "        model_answer = inference(model, tokenizer, context, question, device)\n",
    "        true_answer=  true_answer.split('\\n### Answer:\\n')[1].replace('<|endoftext|>', '')\n",
    "        if model_answer.strip() == true_answer.strip():\n",
    "            correct += 1\n",
    "    return correct / len(validset)\n",
    "\n",
    "accuracy = calculate_accuracy(validset, valid_loader, model, device)\n",
    "print(f'模型準確率: {accuracy:.2%}')"
   ]
  }
 ],
 "metadata": {
  "kernelspec": {
   "display_name": "Python 3",
   "language": "python",
   "name": "python3"
  },
  "language_info": {
   "codemirror_mode": {
    "name": "ipython",
    "version": 3
   },
   "file_extension": ".py",
   "mimetype": "text/x-python",
   "name": "python",
   "nbconvert_exporter": "python",
   "pygments_lexer": "ipython3",
   "version": "3.8.10"
  }
 },
 "nbformat": 4,
 "nbformat_minor": 2
}
