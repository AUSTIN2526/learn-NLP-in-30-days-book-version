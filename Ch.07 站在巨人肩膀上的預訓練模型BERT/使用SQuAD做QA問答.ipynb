{
 "cells": [
  {
   "cell_type": "code",
   "execution_count": 1,
   "metadata": {},
   "outputs": [
    {
     "name": "stdout",
     "output_type": "stream",
     "text": [
      "{'input_ids': [101, 2023, 2003, 2709, 1035, 16396, 2015, 1035, 12375, 2742, 102], 'token_type_ids': [0, 0, 0, 0, 0, 0, 0, 0, 0, 0, 0], 'attention_mask': [1, 1, 1, 1, 1, 1, 1, 1, 1, 1, 1], 'offset_mapping': [(0, 0), (0, 4), (5, 7), (8, 14), (14, 15), (15, 21), (21, 22), (22, 23), (23, 30), (31, 38), (0, 0)]}\n"
     ]
    }
   ],
   "source": [
    "from transformers import BertTokenizerFast\n",
    "\n",
    "tokenizer = BertTokenizerFast.from_pretrained('bert-base-uncased')\n",
    "tokenized_context = tokenizer('This is return_offsets_mapping example', return_offsets_mapping=True)\n",
    "print(tokenized_context)"
   ]
  },
  {
   "cell_type": "code",
   "execution_count": 2,
   "metadata": {},
   "outputs": [],
   "source": [
    "import json\n",
    "\n",
    "def load_data(json_file):\n",
    "    with open(json_file, 'r', encoding='utf-8') as f:\n",
    "        squad_data = json.load(f)\n",
    "    return squad_data\n",
    "\n",
    "squad_data = load_data('train-v2.0.json')"
   ]
  },
  {
   "cell_type": "code",
   "execution_count": 3,
   "metadata": {},
   "outputs": [
    {
     "name": "stderr",
     "output_type": "stream",
     "text": [
      "Token indices sequence length is longer than the specified maximum sequence length for this model (720 > 512). Running this sequence through the model will result in indexing errors\n"
     ]
    },
    {
     "name": "stdout",
     "output_type": "stream",
     "text": [
      "文章內容: Beyoncé Giselle Knowles-Carter (/biːˈjɒnseɪ/ bee-YON-say) (born September 4, 1981) is an American singer, songwriter, record producer and actress. Born and raised in Houston, Texas, she performed in various singing and dancing competitions as a child, and rose to fame in the late 1990s as lead singer of R&B girl-group Destiny's Child. Managed by her father, Mathew Knowles, the group became one of the world's best-selling girl groups of all time. Their hiatus saw the release of Beyoncé's debut album, Dangerously in Love (2003), which established her as a solo artist worldwide, earned five Grammy Awards and featured the Billboard Hot 100 number-one singles \"Crazy in Love\" and \"Baby Boy\".\n",
      "問題: When did Beyonce start becoming popular?\n",
      "答案: in the late 1990s\n",
      "Token起始位子: 67\n",
      "Token結尾位子: 70\n"
     ]
    }
   ],
   "source": [
    "from transformers import BertTokenizerFast\n",
    "\n",
    "class SquadProcessor:\n",
    "    def __init__(self, squad_data, tokenizer_model):\n",
    "        # 初始化SquadProcessor類，設定資料和tokenizer\n",
    "        self.squad_data = squad_data\n",
    "        self.tokenizer = BertTokenizerFast.from_pretrained(tokenizer_model)\n",
    "    \n",
    "    def process_answers(self, answers, context, question, csv_data):\n",
    "        # 處理每個答案，將答案和其在context中的位置轉換為token索引\n",
    "        for answer in answers:\n",
    "            answer_text = answer['text']\n",
    "            answer_start = answer['answer_start']\n",
    "            answer_end = answer_start + len(answer_text)\n",
    "            # 將context進行token化並獲取偏移映射\n",
    "            tokenized_context = self.tokenizer(context, return_offsets_mapping=True)\n",
    "            # 找到答案的token索引\n",
    "            start_token_idx, end_token_idx = self.find_token_indices(tokenized_context, answer_start, answer_end)\n",
    "            \n",
    "            if start_token_idx is not None and end_token_idx is not None:\n",
    "                # 將結果追加到csv資料中\n",
    "                csv_data.append([context, question, answer_text, start_token_idx, end_token_idx])\n",
    "    \n",
    "    def find_token_indices(self, tokenized_context, answer_start, answer_end):\n",
    "        # 找到答案在tokenized context中的起始和結束token索引\n",
    "        start_token_idx = None\n",
    "        end_token_idx = None\n",
    "        for idx, (start, end) in enumerate(tokenized_context['offset_mapping']):\n",
    "            if start == answer_start:\n",
    "                start_token_idx = idx\n",
    "            if end == answer_end:\n",
    "                end_token_idx = idx\n",
    "        return start_token_idx, end_token_idx\n",
    "    \n",
    "    def parse_data(self):\n",
    "        # 解析SQuAD資料，將處理過的結果存入csv_data\n",
    "        csv_data = []\n",
    "        for article in self.squad_data['data']:\n",
    "            for paragraph in article['paragraphs']:\n",
    "                context = paragraph['context']\n",
    "                for qa in paragraph['qas']:\n",
    "                    question = qa['question']\n",
    "                    is_impossible = qa['is_impossible']\n",
    "                    if not is_impossible:\n",
    "                        # 若問題有答案，處理答案\n",
    "                        self.process_answers(qa['answers'], context, question, csv_data)\n",
    "                    else:\n",
    "                        # 若問題無法回答，追加空的答案資訊\n",
    "                        csv_data.append([context, question, '', -1, -1])\n",
    "        return csv_data\n",
    "\n",
    "squad_processor = SquadProcessor(squad_data, 'bert-base-uncased')\n",
    "csv_data = squad_processor.parse_data()\n",
    "column_names = ['文章內容', '問題', '答案', 'Token起始位子', 'Token結尾位子']\n",
    "first_row = csv_data[0]\n",
    "for name, value in zip(column_names, first_row):\n",
    "    print(f'{name}: {value}')\n"
   ]
  },
  {
   "cell_type": "code",
   "execution_count": 4,
   "metadata": {},
   "outputs": [],
   "source": [
    "import pandas as pd\n",
    "\n",
    "def save_to_csv(csv_data, output_file):\n",
    "    df = pd.DataFrame(csv_data, columns=['context', 'question', 'answer', 'start_token_idx', 'end_token_idx'])\n",
    "    df.to_csv(output_file, index=False, encoding='utf-8')\n",
    "\n",
    "# 儲存至 CSV 檔案\n",
    "save_to_csv(csv_data, 'squad2.0_converted.csv')"
   ]
  },
  {
   "cell_type": "code",
   "execution_count": 5,
   "metadata": {},
   "outputs": [],
   "source": [
    "import pandas as pd\n",
    "from sklearn.model_selection import train_test_split\n",
    "\n",
    "# 讀取CSV檔案並只選取指定的4個欄位\n",
    "df = pd.read_csv('squad2.0_converted.csv', usecols=['context', 'question', 'answer', 'start_token_idx', 'end_token_idx'])\n",
    "\n",
    "train_df, valid_df = train_test_split(df, train_size=0.8, random_state=46, shuffle=True)"
   ]
  },
  {
   "cell_type": "code",
   "execution_count": 6,
   "metadata": {},
   "outputs": [],
   "source": [
    "import torch\n",
    "from torch.utils.data import Dataset, DataLoader\n",
    "\n",
    "# 定義自定義Dataset\n",
    "class SquadDataset(Dataset):\n",
    "    def __init__(self, dataframe, tokenizer):\n",
    "        self.dataframe = dataframe\n",
    "        self.tokenizer = tokenizer\n",
    "\n",
    "    def __getitem__(self, index):\n",
    "        item = self.dataframe.iloc[index]\n",
    "        return item['context'], item['question'], item['start_token_idx'], item['end_token_idx']\n",
    "       \n",
    "    def __len__(self):\n",
    "        return len(self.dataframe)\n",
    "    \n",
    "    def collate_fn(self, batch):\n",
    "        batch_contexts, batch_questions, batch_starts, batch_ends = zip(*batch)\n",
    "        encodings = self.tokenizer(\n",
    "            batch_contexts,\n",
    "            batch_questions,\n",
    "            truncation=True,\n",
    "            padding='longest',\n",
    "            max_length=512,\n",
    "            return_tensors='pt'\n",
    "        )\n",
    "\n",
    "        return {\n",
    "            **encodings,   # input_ids, attention_mask, token_type_ids\n",
    "            'start_positions': torch.tensor(batch_starts),\n",
    "            'end_positions': torch.tensor(batch_ends)\n",
    "        }\n",
    "\n",
    "# 建立資料集\n",
    "trainset = SquadDataset(train_df, tokenizer)\n",
    "validset = SquadDataset(valid_df, tokenizer)\n",
    "\n",
    "# 創建DataLoader\n",
    "train_loader = DataLoader(trainset, batch_size=16, shuffle=True, collate_fn=trainset.collate_fn)\n",
    "valid_loader = DataLoader(validset, batch_size=16, shuffle=True, collate_fn=validset.collate_fn)"
   ]
  },
  {
   "cell_type": "code",
   "execution_count": 7,
   "metadata": {},
   "outputs": [
    {
     "name": "stderr",
     "output_type": "stream",
     "text": [
      "Some weights of BertForQuestionAnswering were not initialized from the model checkpoint at bert-base-uncased and are newly initialized: ['qa_outputs.bias', 'qa_outputs.weight']\n",
      "You should probably TRAIN this model on a down-stream task to be able to use it for predictions and inference.\n"
     ]
    }
   ],
   "source": [
    "from transformers import BertForQuestionAnswering\n",
    "import torch.optim as optim\n",
    "from transformers import get_cosine_with_hard_restarts_schedule_with_warmup\n",
    "\n",
    "# 訓練設置\n",
    "device = torch.device('cuda' if torch.cuda.is_available() else 'cpu')\n",
    "# 加載BERT模型\n",
    "model = BertForQuestionAnswering.from_pretrained('bert-base-uncased').to(device)\n",
    "\n",
    "optimizer = optim.AdamW(model.parameters(), lr=2e-4)\n",
    "scheduler = get_cosine_with_hard_restarts_schedule_with_warmup(\n",
    "        optimizer, \n",
    "        num_warmup_steps=len(train_loader) * 0.2, \n",
    "        num_training_steps=len(train_loader) * 10, \n",
    "        num_cycles=1, \n",
    ")"
   ]
  },
  {
   "cell_type": "code",
   "execution_count": 8,
   "metadata": {},
   "outputs": [
    {
     "name": "stderr",
     "output_type": "stream",
     "text": [
      "  0%|          | 0/6506 [00:00<?, ?it/s]c:\\Users\\user\\AppData\\Local\\Programs\\Python\\Python38\\lib\\site-packages\\transformers\\models\\bert\\modeling_bert.py:435: UserWarning: 1Torch was not compiled with flash attention. (Triggered internally at C:\\actions-runner\\_work\\pytorch\\pytorch\\builder\\windows\\pytorch\\aten\\src\\ATen\\native\\transformers\\cuda\\sdp_utils.cpp:455.)\n",
      "  attn_output = torch.nn.functional.scaled_dot_product_attention(\n",
      "Train Epoch 0: 100%|██████████| 6506/6506 [11:45<00:00,  9.22it/s, loss=2.114]\n",
      "Valid Epoch 0: 100%|██████████| 1627/1627 [01:01<00:00, 26.31it/s, loss=2.132]\n"
     ]
    },
    {
     "name": "stdout",
     "output_type": "stream",
     "text": [
      "Saving Model With Loss 1.82464\n",
      "Train Loss: 1.97271| Valid Loss: 1.82464| Best Loss: 1.82464\n",
      "\n"
     ]
    },
    {
     "name": "stderr",
     "output_type": "stream",
     "text": [
      "Train Epoch 1: 100%|██████████| 6506/6506 [11:45<00:00,  9.22it/s, loss=1.100]\n",
      "Valid Epoch 1: 100%|██████████| 1627/1627 [01:00<00:00, 26.77it/s, loss=1.248]\n"
     ]
    },
    {
     "name": "stdout",
     "output_type": "stream",
     "text": [
      "Saving Model With Loss 1.65771\n",
      "Train Loss: 1.75430| Valid Loss: 1.65771| Best Loss: 1.65771\n",
      "\n"
     ]
    },
    {
     "name": "stderr",
     "output_type": "stream",
     "text": [
      "Train Epoch 2: 100%|██████████| 6506/6506 [12:06<00:00,  8.95it/s, loss=0.774]  \n",
      "Valid Epoch 2: 100%|██████████| 1627/1627 [01:02<00:00, 26.17it/s, loss=1.650]\n"
     ]
    },
    {
     "name": "stdout",
     "output_type": "stream",
     "text": [
      "Saving Model With Loss 1.49451\n",
      "Train Loss: 1.41072| Valid Loss: 1.49451| Best Loss: 1.49451\n",
      "\n"
     ]
    },
    {
     "name": "stderr",
     "output_type": "stream",
     "text": [
      "Train Epoch 3: 100%|██████████| 6506/6506 [11:48<00:00,  9.18it/s, loss=1.727]\n",
      "Valid Epoch 3: 100%|██████████| 1627/1627 [01:01<00:00, 26.27it/s, loss=2.490]\n"
     ]
    },
    {
     "name": "stdout",
     "output_type": "stream",
     "text": [
      "Saving Model With Loss 1.44374\n",
      "Train Loss: 1.18482| Valid Loss: 1.44374| Best Loss: 1.44374\n",
      "\n"
     ]
    },
    {
     "name": "stderr",
     "output_type": "stream",
     "text": [
      "Train Epoch 4: 100%|██████████| 6506/6506 [11:55<00:00,  9.09it/s, loss=0.885]\n",
      "Valid Epoch 4: 100%|██████████| 1627/1627 [01:02<00:00, 25.92it/s, loss=1.036]\n"
     ]
    },
    {
     "name": "stdout",
     "output_type": "stream",
     "text": [
      "Saving Model With Loss 1.40408\n",
      "Train Loss: 0.91828| Valid Loss: 1.40408| Best Loss: 1.40408\n",
      "\n"
     ]
    },
    {
     "name": "stderr",
     "output_type": "stream",
     "text": [
      "Train Epoch 5: 100%|██████████| 6506/6506 [11:54<00:00,  9.11it/s, loss=1.752]\n",
      "Valid Epoch 5: 100%|██████████| 1627/1627 [01:02<00:00, 26.08it/s, loss=1.654]\n"
     ]
    },
    {
     "name": "stdout",
     "output_type": "stream",
     "text": [
      "Train Loss: 0.65847| Valid Loss: 1.57564| Best Loss: 1.40408\n",
      "\n"
     ]
    },
    {
     "name": "stderr",
     "output_type": "stream",
     "text": [
      "Train Epoch 6: 100%|██████████| 6506/6506 [11:53<00:00,  9.11it/s, loss=0.219]\n",
      "Valid Epoch 6: 100%|██████████| 1627/1627 [01:02<00:00, 26.00it/s, loss=1.061]\n"
     ]
    },
    {
     "name": "stdout",
     "output_type": "stream",
     "text": [
      "Train Loss: 0.42023| Valid Loss: 1.69944| Best Loss: 1.40408\n",
      "\n"
     ]
    },
    {
     "name": "stderr",
     "output_type": "stream",
     "text": [
      "Train Epoch 7: 100%|██████████| 6506/6506 [11:54<00:00,  9.11it/s, loss=0.062]\n",
      "Valid Epoch 7: 100%|██████████| 1627/1627 [01:02<00:00, 26.04it/s, loss=0.439]\n"
     ]
    },
    {
     "name": "stdout",
     "output_type": "stream",
     "text": [
      "------------------------------------\n",
      "|Model can't improve, stop training|\n",
      "------------------------------------\n"
     ]
    },
    {
     "data": {
      "image/png": "[encoded data removed]",
      "text/plain": [
       "<Figure size 640x480 with 1 Axes>"
      ]
     },
     "metadata": {},
     "output_type": "display_data"
    }
   ],
   "source": [
    "from trainer import Trainer\n",
    "trainer = Trainer(\n",
    "    epochs=10, \n",
    "    train_loader=train_loader, \n",
    "    valid_loader=valid_loader, \n",
    "    model=model, \n",
    "    optimizer=[optimizer],\n",
    "    scheduler=[scheduler],\n",
    "    early_stopping=3\n",
    ")\n",
    "trainer.train()"
   ]
  },
  {
   "cell_type": "code",
   "execution_count": 9,
   "metadata": {},
   "outputs": [
    {
     "name": "stdout",
     "output_type": "stream",
     "text": [
      "文章內容: Photo Gallery is an optional application to view, create and group photos from PS3, which is installed separately from the system software at 105 MB. It was introduced in system software version 2.60 and provides a range of tools for sorting through and displaying the system's pictures. The key feature of this application is that it can organize photos into groups according to various criteria. Notable categorizations are colors, ages, or facial expressions of the people in the photos. Slideshows can be viewed with the application, along with music and playlists. The software was updated with the release of system software version 3.40 allowing users to upload and browse photos on Facebook and Picasa.\n",
      "問題 Is Video Gallery automatically or separately installed?\n",
      "答案: nan\n",
      "模型答案: separately\n"
     ]
    }
   ],
   "source": [
    "model.load_state_dict(torch.load('model.ckpt'))\n",
    "model.eval()\n",
    "\n",
    "# 從valid_df中獲取context和question\n",
    "context, question, tgt_answer, start, end = valid_df.values[5]\n",
    "inputs = tokenizer(\n",
    "    context,\n",
    "    question,\n",
    "    truncation=True,\n",
    "    padding='longest',\n",
    "    max_length=512,\n",
    "    return_tensors='pt'\n",
    ").to(device)\n",
    "\n",
    "# 進行推理\n",
    "with torch.no_grad():\n",
    "    outputs = model(**inputs)\n",
    "    start_scores = outputs.start_logits\n",
    "    end_scores = outputs.end_logits\n",
    "\n",
    "# 提取答案\n",
    "start_index = torch.argmax(start_scores)\n",
    "end_index = torch.argmax(end_scores)\n",
    "\n",
    "# 確保end_index在start_index之後\n",
    "if start_index <= end_index:\n",
    "    answer_tokens = inputs['input_ids'][0][start_index:end_index + 1]\n",
    "    answer = tokenizer.decode(answer_tokens)\n",
    "else:\n",
    "    answer = \"Unable to find a valid answer.\"\n",
    "\n",
    "# 輸出答案\n",
    "print('文章內容:', context)\n",
    "print('問題', question)\n",
    "print(\"答案:\", tgt_answer)\n",
    "print(\"模型答案:\", answer)"
   ]
  },
  {
   "cell_type": "code",
   "execution_count": 10,
   "metadata": {},
   "outputs": [
    {
     "name": "stderr",
     "output_type": "stream",
     "text": [
      "100%|██████████| 1627/1627 [01:01<00:00, 26.53it/s]"
     ]
    },
    {
     "name": "stdout",
     "output_type": "stream",
     "text": [
      "模型準確率: 44.50%\n"
     ]
    },
    {
     "name": "stderr",
     "output_type": "stream",
     "text": [
      "\n"
     ]
    }
   ],
   "source": [
    "from tqdm import tqdm\n",
    "\n",
    "def calculate_accuracy(validset, valid_loader, model, device):\n",
    "    correct = 0\n",
    "    model.eval()\n",
    "    for input_datas in tqdm(valid_loader):\n",
    "        input_datas = {k:v.to(device) for k,v in input_datas.items()}\n",
    "        tgt_start = input_datas['start_positions']\n",
    "        tgt_end = input_datas['end_positions']\n",
    "        # 進行推論\n",
    "        with torch.no_grad():\n",
    "            outputs = model(**input_datas)\n",
    "            start_scores = outputs.start_logits\n",
    "            end_scores = outputs.end_logits\n",
    "        # 提取答案索引\n",
    "        start_index = torch.argmax(start_scores, dim=1)\n",
    "        end_index = torch.argmax(end_scores, dim=1)\n",
    "\n",
    "        # 檢查索引是否與目標索引匹配\n",
    "        correct += ((start_index == tgt_start) & (end_index == tgt_end)).sum().item()\n",
    "    \n",
    "    accuracy = correct / len(validset)\n",
    "    return accuracy\n",
    "\n",
    "# 使用valid_loader來計算準確率\n",
    "accuracy = calculate_accuracy(validset, valid_loader, model, device)\n",
    "print(f'模型準確率: {accuracy:.2%}')"
   ]
  },
  {
   "cell_type": "code",
   "execution_count": null,
   "metadata": {},
   "outputs": [],
   "source": []
  }
 ],
 "metadata": {
  "kernelspec": {
   "display_name": "Python 3",
   "language": "python",
   "name": "python3"
  },
  "language_info": {
   "codemirror_mode": {
    "name": "ipython",
    "version": 3
   },
   "file_extension": ".py",
   "mimetype": "text/x-python",
   "name": "python",
   "nbconvert_exporter": "python",
   "pygments_lexer": "ipython3",
   "version": "3.8.10"
  }
 },
 "nbformat": 4,
 "nbformat_minor": 2
}
