{
 "cells": [
  {
   "cell_type": "markdown",
   "metadata": {},
   "source": [
    "## 固定亂數"
   ]
  },
  {
   "cell_type": "code",
   "execution_count": 1,
   "metadata": {},
   "outputs": [],
   "source": [
    "import torch\n",
    "import numpy as np\n",
    "import random\n",
    "\n",
    "def set_seeds(seed):\n",
    "    random.seed(seed)  # 設定 Python 標準庫的亂數生成器種子\n",
    "    np.random.seed(seed)  # 設定 NumPy 亂數生成器種子\n",
    "    torch.manual_seed(seed)  # 設定 PyTorch 的 CPU 亂數生成器種子\n",
    "    if torch.cuda.is_available():\n",
    "        torch.cuda.manual_seed(seed)  # 設定 PyTorch 在單個 GPU 上的亂數種子\n",
    "        torch.cuda.manual_seed_all(seed)  # 設定 PyTorch 在所有 GPU 上的亂數種子\n",
    "    torch.backends.cudnn.benchmark = False  # 禁用 cuDNN 的基準測試功能\n",
    "    torch.backends.cudnn.deterministic = True  # 強制 cuDNN 使用確定性算法\n",
    "\n",
    "set_seeds(2526)"
   ]
  },
  {
   "cell_type": "markdown",
   "metadata": {},
   "source": [
    "## 讀取Tokenizer與CSV檔案"
   ]
  },
  {
   "cell_type": "code",
   "execution_count": 2,
   "metadata": {},
   "outputs": [],
   "source": [
    "from transformers import AutoTokenizer\n",
    "import pandas as pd\n",
    "import os\n",
    "\n",
    "def read_csv_data(data_path):\n",
    "    source, target = [], []\n",
    "    for file_name in os.listdir(data_path):\n",
    "        df = pd.read_csv(f'{data_path}/{file_name}')\n",
    "        src, tgt = df['text'].values, df['summary'].values\n",
    "        source.extend(src)\n",
    "        target.extend(tgt)\n",
    "    return source, target\n",
    "    \n",
    "x_train_data, y_train_data = read_csv_data('news/train')\n",
    "x_test, y_test = read_csv_data('news/test')\n",
    "\n",
    "tokenizer = AutoTokenizer.from_pretrained('bert-base-uncased')"
   ]
  },
  {
   "cell_type": "markdown",
   "metadata": {},
   "source": [
    "## 建立Pytorch DataLoader"
   ]
  },
  {
   "cell_type": "code",
   "execution_count": 3,
   "metadata": {},
   "outputs": [],
   "source": [
    "from torch.utils.data import Dataset, DataLoader\n",
    "from sklearn.model_selection import train_test_split\n",
    "\n",
    "class SummaryeDataset(Dataset):\n",
    "    def __init__(self, x, y, tokenizer):\n",
    "        self.x = x\n",
    "        self.y = y\n",
    "        self.tokenizer = tokenizer\n",
    "\n",
    "    def __getitem__(self, index):\n",
    "        return self.x[index], self.y[index]\n",
    "       \n",
    "    def __len__(self):\n",
    "        return len(self.x)\n",
    "    \n",
    "    def collate_fn(self, batch):    \n",
    "        batch_x, batch_y = zip(*batch)\n",
    "        src = self.tokenizer(batch_x, max_length=256, truncation=True, padding=\"longest\", return_tensors='pt')\n",
    "        tgt = self.tokenizer(batch_y, max_length=256, truncation=True, padding=\"longest\", return_tensors='pt')\n",
    "        src = {f'src_{k}':v for k, v in src.items()}\n",
    "        tgt = {f'tgt_{k}':v for k, v in tgt.items()}\n",
    "\n",
    "        return {**src, **tgt}\n",
    "\n",
    "x_train, x_valid, y_train, y_valid = train_test_split(x_train_data, y_train_data, train_size=0.8, random_state=46, shuffle=True) \n",
    "\n",
    "trainset = SummaryeDataset(x_train, y_train, tokenizer)\n",
    "validset = SummaryeDataset(x_valid, y_valid, tokenizer)\n",
    "\n",
    "train_loader = DataLoader(trainset, batch_size = 32, shuffle = True, num_workers = 0, pin_memory = True, collate_fn=trainset.collate_fn)\n",
    "valid_loader = DataLoader(validset, batch_size = 32, shuffle = True, num_workers = 0, pin_memory = True, collate_fn=validset.collate_fn)"
   ]
  },
  {
   "cell_type": "markdown",
   "metadata": {},
   "source": [
    "## 建立Positional Encoding"
   ]
  },
  {
   "cell_type": "code",
   "execution_count": 4,
   "metadata": {},
   "outputs": [],
   "source": [
    "import torch\n",
    "import torch.nn as nn\n",
    "\n",
    "class PositionalEncoding(nn.Module):\n",
    "    def __init__(self, emb_size, dropout, maxlen=5000):\n",
    "        super(PositionalEncoding, self).__init__()\n",
    "        self.dropout = nn.Dropout(p=dropout)\n",
    "        \n",
    "        pe = torch.zeros(maxlen, emb_size)\n",
    "        position = torch.arange(0, maxlen, dtype=torch.float).unsqueeze(1)\n",
    "        div_term = torch.exp(torch.arange(0, emb_size, 2).float() * (-torch.log(torch.tensor(10000.0)) / emb_size))\n",
    "        pe[:, 0::2] = torch.sin(position * div_term)\n",
    "        pe[:, 1::2] = torch.cos(position * div_term)\n",
    "        pe = pe.unsqueeze(0).transpose(0, 1)\n",
    "        self.register_buffer('pe', pe)\n",
    "\n",
    "    def forward(self, x):\n",
    "        x = x + self.pe[:x.size(0), :]\n",
    "        return self.dropout(x)"
   ]
  },
  {
   "cell_type": "markdown",
   "metadata": {},
   "source": [
    "## 建立Transforemer"
   ]
  },
  {
   "cell_type": "code",
   "execution_count": 7,
   "metadata": {},
   "outputs": [],
   "source": [
    "\n",
    "class Seq2SeqTransformer(nn.Module):\n",
    "    def __init__(self, vocab_size, emb_size, d_model, nhead, num_encoder_layers, num_decoder_layers, dim_feedforward):\n",
    "        super(Seq2SeqTransformer, self).__init__()\n",
    "        self.src_embedding = nn.Embedding(vocab_size, emb_size)\n",
    "        self.tgt_embedding = nn.Embedding(vocab_size, emb_size)\n",
    "        self.positional_encoding = PositionalEncoding(emb_size, dropout=0.1)\n",
    "\n",
    "        self.transformer = nn.Transformer(\n",
    "            d_model=d_model, \n",
    "            nhead=nhead,  \n",
    "            num_encoder_layers=num_encoder_layers, \n",
    "            num_decoder_layers=num_decoder_layers, \n",
    "            dim_feedforward=dim_feedforward, \n",
    "            batch_first=True\n",
    "        )\n",
    "\n",
    "        # 用於生成最終輸出的線性層\n",
    "        self.fc = nn.Linear(d_model, vocab_size)\n",
    "        self.criterion = torch.nn.CrossEntropyLoss(ignore_index=tokenizer.pad_token_id)\n",
    "\n",
    "    def forward(self, **kwargs):\n",
    "        src_ids = kwargs['src_input_ids']\n",
    "        tgt_ids = kwargs['tgt_input_ids']\n",
    "\n",
    "        src_key_padding_mask = (kwargs['src_attention_mask'] == 0)\n",
    "        tgt_key_padding_mask = (kwargs['tgt_attention_mask'] == 0)\n",
    "\n",
    "\n",
    "        src_emb, tgt_emb = self.embedding_step(src_ids, tgt_ids)\n",
    "\n",
    "        src_mask = torch.zeros((src_emb.shape[1], src_emb.shape[1]),device=device).type(torch.bool)\n",
    "        tgt_mask = self.generate_square_subsequent_mask(tgt_emb.shape[1])\n",
    "\n",
    "        # 將嵌入通過transformer模型\n",
    "        outs = self.transformer(\n",
    "            src_emb, tgt_emb, \n",
    "            src_mask=src_mask, \n",
    "            tgt_mask=tgt_mask, \n",
    "            src_key_padding_mask=src_key_padding_mask,\n",
    "            tgt_key_padding_mask=tgt_key_padding_mask, \n",
    "            memory_key_padding_mask=src_key_padding_mask\n",
    "        )\n",
    "\n",
    "        logits = self.fc(outs)\n",
    "\n",
    "        tgt_ids_shifted = tgt_ids[:, 1:].reshape(-1)\n",
    "        logits = logits[:, :-1].reshape(-1, logits.shape[-1])\n",
    "        loss = self.criterion(logits, tgt_ids_shifted)\n",
    "\n",
    "        return loss, logits\n",
    "\n",
    "    def embedding_step(self, src, tgt):\n",
    "        src_emb = self.src_embedding(src)\n",
    "        tgt_emb = self.tgt_embedding(tgt)\n",
    "        \n",
    "        return self.positional_encoding(src_emb), self.positional_encoding(tgt_emb)\n",
    "    \n",
    "    def generate_square_subsequent_mask(self, sz):\n",
    "        mask = (torch.triu(torch.ones(sz, sz)) == 1).transpose(0, 1)\n",
    "        mask = mask.float().masked_fill(mask == 0, float('-inf')).masked_fill(mask == 1, float(0.0))\n",
    "        return mask.to(device)\n",
    "    \n",
    "    def generate(self, max_length=50, cls_token_id=101, sep_token_id=102, **kwargs):\n",
    "        src_input_ids = kwargs['input_ids']\n",
    "        src_attention_mask = kwargs['attention_mask']\n",
    "\n",
    "        # 先嵌入源序列\n",
    "        src_emb = self.positional_encoding(self.src_embedding(src_input_ids))\n",
    "        src_key_padding_mask = (src_attention_mask == 0)\n",
    "\n",
    "        # 初始化目標序列，開始符號 (BOS)\n",
    "        tgt_input_ids = torch.full((src_input_ids.size(0), 1), cls_token_id, dtype=torch.long).to(src_input_ids.device)\n",
    "        for _ in range(max_length):\n",
    "            tgt_emb = self.tgt_embedding(tgt_input_ids)\n",
    "            tgt_emb = self.positional_encoding(tgt_emb)\n",
    "\n",
    "            # Transformer 前向傳播\n",
    "            outs = self.transformer(\n",
    "                src_emb, tgt_emb, \n",
    "                src_key_padding_mask=src_key_padding_mask, \n",
    "                memory_key_padding_mask=src_key_padding_mask\n",
    "            )\n",
    "            logits = self.fc(outs)\n",
    "            next_token_logits = logits[:, -1, :]\n",
    "            next_token = torch.argmax(next_token_logits, dim=-1).unsqueeze(1)\n",
    "            tgt_input_ids = torch.cat([tgt_input_ids, next_token], dim=1)\n",
    "\n",
    "            # 停止條件: 如果生成的序列中包含了結束符號 (EOS)\n",
    "            if next_token.item() == sep_token_id:\n",
    "                break\n",
    "\n",
    "        return tgt_input_ids\n",
    "    \n",
    "# 設定模型\n",
    "device = torch.device('cuda' if torch.cuda.is_available() else 'cpu')\n",
    "model = Seq2SeqTransformer(\n",
    "    vocab_size=len(tokenizer),\n",
    "    emb_size=512,\n",
    "    d_model=512,\n",
    "    nhead=8,\n",
    "    num_encoder_layers=6,\n",
    "    num_decoder_layers=6,\n",
    "    dim_feedforward=2048\n",
    ").to(device)"
   ]
  },
  {
   "cell_type": "markdown",
   "metadata": {},
   "source": [
    "## 訓練模型"
   ]
  },
  {
   "cell_type": "code",
   "execution_count": 5,
   "metadata": {},
   "outputs": [],
   "source": [
    "import torch.optim as optim\n",
    "from transformers import get_cosine_with_hard_restarts_schedule_with_warmup\n",
    "from trainer import Trainer\n",
    "\n",
    "# 優化器與排成器\n",
    "optimizer = optim.AdamW(model.parameters(), lr=1e-4)\n",
    "scheduler = get_cosine_with_hard_restarts_schedule_with_warmup(\n",
    "        optimizer, \n",
    "        num_warmup_steps=len(train_loader), \n",
    "        num_training_steps=len(train_loader) * 100, \n",
    "        num_cycles=1, \n",
    ")\n",
    "\n",
    "# 訓練模型\n",
    "trainer = Trainer(\n",
    "    epochs=100, \n",
    "    train_loader=train_loader, \n",
    "    valid_loader=valid_loader, \n",
    "    model=model, \n",
    "    optimizer=[optimizer],\n",
    "    scheduler=[scheduler]\n",
    ")\n",
    "trainer.train(show_loss=True)"
   ]
  },
  {
   "cell_type": "code",
   "execution_count": 6,
   "metadata": {},
   "outputs": [
    {
     "name": "stderr",
     "output_type": "stream",
     "text": [
      "  0%|          | 0/4643 [00:00<?, ?it/s]c:\\Users\\user\\AppData\\Local\\Programs\\Python\\Python38\\lib\\site-packages\\torch\\nn\\functional.py:5504: UserWarning: 1Torch was not compiled with flash attention. (Triggered internally at C:\\actions-runner\\_work\\pytorch\\pytorch\\builder\\windows\\pytorch\\aten\\src\\ATen\\native\\transformers\\cuda\\sdp_utils.cpp:455.)\n",
      "  attn_output = scaled_dot_product_attention(q, k, v, attn_mask, dropout_p, is_causal)\n",
      "c:\\Users\\user\\AppData\\Local\\Programs\\Python\\Python38\\lib\\site-packages\\torch\\nn\\functional.py:5137: UserWarning: Support for mismatched key_padding_mask and attn_mask is deprecated. Use same type for both instead.\n",
      "  warnings.warn(\n",
      "Train Epoch 0: 100%|██████████| 4643/4643 [06:20<00:00, 12.19it/s, loss=6.087]\n",
      "Valid Epoch 0: 100%|██████████| 1161/1161 [00:34<00:00, 33.95it/s, loss=6.242]\n"
     ]
    },
    {
     "name": "stdout",
     "output_type": "stream",
     "text": [
      "Saving Model With Loss 6.28107\n",
      "Train Loss: 7.60932| Valid Loss: 6.28107| Best Loss: 6.28107\n",
      "\n"
     ]
    },
    {
     "name": "stderr",
     "output_type": "stream",
     "text": [
      "Train Epoch 1: 100%|██████████| 4643/4643 [06:23<00:00, 12.11it/s, loss=5.120]\n",
      "Valid Epoch 1: 100%|██████████| 1161/1161 [00:33<00:00, 34.19it/s, loss=4.997]\n"
     ]
    },
    {
     "name": "stdout",
     "output_type": "stream",
     "text": [
      "Saving Model With Loss 5.08784\n",
      "Train Loss: 5.64157| Valid Loss: 5.08784| Best Loss: 5.08784\n",
      "\n"
     ]
    },
    {
     "name": "stderr",
     "output_type": "stream",
     "text": [
      "Train Epoch 2: 100%|██████████| 4643/4643 [06:22<00:00, 12.14it/s, loss=4.926]\n",
      "Valid Epoch 2: 100%|██████████| 1161/1161 [00:34<00:00, 33.98it/s, loss=3.937]\n"
     ]
    },
    {
     "name": "stdout",
     "output_type": "stream",
     "text": [
      "Saving Model With Loss 4.47996\n",
      "Train Loss: 4.73167| Valid Loss: 4.47996| Best Loss: 4.47996\n",
      "\n"
     ]
    },
    {
     "name": "stderr",
     "output_type": "stream",
     "text": [
      "Train Epoch 3: 100%|██████████| 4643/4643 [06:22<00:00, 12.15it/s, loss=3.319]\n",
      "Valid Epoch 3: 100%|██████████| 1161/1161 [00:33<00:00, 34.32it/s, loss=3.373]\n"
     ]
    },
    {
     "name": "stdout",
     "output_type": "stream",
     "text": [
      "Saving Model With Loss 4.07687\n",
      "Train Loss: 4.13461| Valid Loss: 4.07687| Best Loss: 4.07687\n",
      "\n"
     ]
    },
    {
     "name": "stderr",
     "output_type": "stream",
     "text": [
      "Train Epoch 4: 100%|██████████| 4643/4643 [06:19<00:00, 12.23it/s, loss=2.947]\n",
      "Valid Epoch 4: 100%|██████████| 1161/1161 [00:34<00:00, 34.14it/s, loss=4.096]\n"
     ]
    },
    {
     "name": "stdout",
     "output_type": "stream",
     "text": [
      "Saving Model With Loss 3.80269\n",
      "Train Loss: 3.64790| Valid Loss: 3.80269| Best Loss: 3.80269\n",
      "\n"
     ]
    },
    {
     "name": "stderr",
     "output_type": "stream",
     "text": [
      "Train Epoch 5: 100%|██████████| 4643/4643 [06:20<00:00, 12.20it/s, loss=2.862]\n",
      "Valid Epoch 5: 100%|██████████| 1161/1161 [00:33<00:00, 34.48it/s, loss=3.310]\n"
     ]
    },
    {
     "name": "stdout",
     "output_type": "stream",
     "text": [
      "Saving Model With Loss 3.54949\n",
      "Train Loss: 3.22095| Valid Loss: 3.54949| Best Loss: 3.54949\n",
      "\n"
     ]
    },
    {
     "name": "stderr",
     "output_type": "stream",
     "text": [
      "Train Epoch 6: 100%|██████████| 4643/4643 [06:19<00:00, 12.23it/s, loss=3.075]\n",
      "Valid Epoch 6: 100%|██████████| 1161/1161 [00:33<00:00, 34.57it/s, loss=2.808]\n"
     ]
    },
    {
     "name": "stdout",
     "output_type": "stream",
     "text": [
      "Saving Model With Loss 3.33803\n",
      "Train Loss: 2.83538| Valid Loss: 3.33803| Best Loss: 3.33803\n",
      "\n"
     ]
    },
    {
     "name": "stderr",
     "output_type": "stream",
     "text": [
      "Train Epoch 7: 100%|██████████| 4643/4643 [06:19<00:00, 12.22it/s, loss=2.873]\n",
      "Valid Epoch 7: 100%|██████████| 1161/1161 [00:33<00:00, 34.24it/s, loss=2.727]\n"
     ]
    },
    {
     "name": "stdout",
     "output_type": "stream",
     "text": [
      "Saving Model With Loss 3.13922\n",
      "Train Loss: 2.49279| Valid Loss: 3.13922| Best Loss: 3.13922\n",
      "\n"
     ]
    },
    {
     "name": "stderr",
     "output_type": "stream",
     "text": [
      "Train Epoch 8: 100%|██████████| 4643/4643 [06:19<00:00, 12.23it/s, loss=2.406]\n",
      "Valid Epoch 8: 100%|██████████| 1161/1161 [00:33<00:00, 34.61it/s, loss=3.520]\n"
     ]
    },
    {
     "name": "stdout",
     "output_type": "stream",
     "text": [
      "Saving Model With Loss 3.00344\n",
      "Train Loss: 2.19486| Valid Loss: 3.00344| Best Loss: 3.00344\n",
      "\n"
     ]
    },
    {
     "name": "stderr",
     "output_type": "stream",
     "text": [
      "Train Epoch 9: 100%|██████████| 4643/4643 [06:19<00:00, 12.24it/s, loss=1.868]\n",
      "Valid Epoch 9: 100%|██████████| 1161/1161 [00:33<00:00, 34.89it/s, loss=2.727]\n"
     ]
    },
    {
     "name": "stdout",
     "output_type": "stream",
     "text": [
      "Saving Model With Loss 2.83385\n",
      "Train Loss: 1.93402| Valid Loss: 2.83385| Best Loss: 2.83385\n",
      "\n"
     ]
    },
    {
     "name": "stderr",
     "output_type": "stream",
     "text": [
      "Train Epoch 10: 100%|██████████| 4643/4643 [06:19<00:00, 12.23it/s, loss=1.605]\n",
      "Valid Epoch 10: 100%|██████████| 1161/1161 [00:33<00:00, 34.53it/s, loss=2.265]\n"
     ]
    },
    {
     "name": "stdout",
     "output_type": "stream",
     "text": [
      "Saving Model With Loss 2.71406\n",
      "Train Loss: 1.70835| Valid Loss: 2.71406| Best Loss: 2.71406\n",
      "\n"
     ]
    },
    {
     "name": "stderr",
     "output_type": "stream",
     "text": [
      "Train Epoch 11: 100%|██████████| 4643/4643 [06:19<00:00, 12.24it/s, loss=1.410]\n",
      "Valid Epoch 11: 100%|██████████| 1161/1161 [00:33<00:00, 34.50it/s, loss=2.466]\n"
     ]
    },
    {
     "name": "stdout",
     "output_type": "stream",
     "text": [
      "Saving Model With Loss 2.58959\n",
      "Train Loss: 1.51551| Valid Loss: 2.58959| Best Loss: 2.58959\n",
      "\n"
     ]
    },
    {
     "name": "stderr",
     "output_type": "stream",
     "text": [
      "Train Epoch 12: 100%|██████████| 4643/4643 [06:19<00:00, 12.25it/s, loss=1.306]\n",
      "Valid Epoch 12: 100%|██████████| 1161/1161 [00:33<00:00, 34.56it/s, loss=2.121]\n"
     ]
    },
    {
     "name": "stdout",
     "output_type": "stream",
     "text": [
      "Saving Model With Loss 2.49246\n",
      "Train Loss: 1.35373| Valid Loss: 2.49246| Best Loss: 2.49246\n",
      "\n"
     ]
    },
    {
     "name": "stderr",
     "output_type": "stream",
     "text": [
      "Train Epoch 13: 100%|██████████| 4643/4643 [06:19<00:00, 12.24it/s, loss=1.909]\n",
      "Valid Epoch 13: 100%|██████████| 1161/1161 [00:33<00:00, 34.56it/s, loss=3.152]\n"
     ]
    },
    {
     "name": "stdout",
     "output_type": "stream",
     "text": [
      "Saving Model With Loss 2.39895\n",
      "Train Loss: 1.21154| Valid Loss: 2.39895| Best Loss: 2.39895\n",
      "\n"
     ]
    },
    {
     "name": "stderr",
     "output_type": "stream",
     "text": [
      "Train Epoch 14: 100%|██████████| 4643/4643 [06:19<00:00, 12.22it/s, loss=0.803]\n",
      "Valid Epoch 14: 100%|██████████| 1161/1161 [00:33<00:00, 34.71it/s, loss=3.202]\n"
     ]
    },
    {
     "name": "stdout",
     "output_type": "stream",
     "text": [
      "Saving Model With Loss 2.35010\n",
      "Train Loss: 1.09252| Valid Loss: 2.35010| Best Loss: 2.35010\n",
      "\n"
     ]
    },
    {
     "name": "stderr",
     "output_type": "stream",
     "text": [
      "Train Epoch 15: 100%|██████████| 4643/4643 [06:19<00:00, 12.23it/s, loss=0.912]\n",
      "Valid Epoch 15: 100%|██████████| 1161/1161 [00:33<00:00, 34.40it/s, loss=3.795]\n"
     ]
    },
    {
     "name": "stdout",
     "output_type": "stream",
     "text": [
      "Saving Model With Loss 2.29695\n",
      "Train Loss: 0.98796| Valid Loss: 2.29695| Best Loss: 2.29695\n",
      "\n"
     ]
    },
    {
     "name": "stderr",
     "output_type": "stream",
     "text": [
      "Train Epoch 16: 100%|██████████| 4643/4643 [06:19<00:00, 12.22it/s, loss=1.223]\n",
      "Valid Epoch 16: 100%|██████████| 1161/1161 [00:33<00:00, 34.67it/s, loss=2.946]\n"
     ]
    },
    {
     "name": "stdout",
     "output_type": "stream",
     "text": [
      "Saving Model With Loss 2.24582\n",
      "Train Loss: 0.89880| Valid Loss: 2.24582| Best Loss: 2.24582\n",
      "\n"
     ]
    },
    {
     "name": "stderr",
     "output_type": "stream",
     "text": [
      "Train Epoch 17: 100%|██████████| 4643/4643 [06:19<00:00, 12.23it/s, loss=0.818]\n",
      "Valid Epoch 17: 100%|██████████| 1161/1161 [00:33<00:00, 34.70it/s, loss=1.523]\n"
     ]
    },
    {
     "name": "stdout",
     "output_type": "stream",
     "text": [
      "Saving Model With Loss 2.21715\n",
      "Train Loss: 0.81894| Valid Loss: 2.21715| Best Loss: 2.21715\n",
      "\n"
     ]
    },
    {
     "name": "stderr",
     "output_type": "stream",
     "text": [
      "Train Epoch 18: 100%|██████████| 4643/4643 [06:20<00:00, 12.20it/s, loss=0.946]\n",
      "Valid Epoch 18: 100%|██████████| 1161/1161 [00:34<00:00, 33.75it/s, loss=2.936]\n"
     ]
    },
    {
     "name": "stdout",
     "output_type": "stream",
     "text": [
      "Saving Model With Loss 2.19833\n",
      "Train Loss: 0.75152| Valid Loss: 2.19833| Best Loss: 2.19833\n",
      "\n"
     ]
    },
    {
     "name": "stderr",
     "output_type": "stream",
     "text": [
      "Train Epoch 19: 100%|██████████| 4643/4643 [06:19<00:00, 12.22it/s, loss=0.504]\n",
      "Valid Epoch 19: 100%|██████████| 1161/1161 [00:33<00:00, 34.39it/s, loss=2.903]\n"
     ]
    },
    {
     "name": "stdout",
     "output_type": "stream",
     "text": [
      "Saving Model With Loss 2.18884\n",
      "Train Loss: 0.69118| Valid Loss: 2.18884| Best Loss: 2.18884\n",
      "\n"
     ]
    },
    {
     "name": "stderr",
     "output_type": "stream",
     "text": [
      "Train Epoch 20: 100%|██████████| 4643/4643 [06:19<00:00, 12.23it/s, loss=0.709]\n",
      "Valid Epoch 20: 100%|██████████| 1161/1161 [00:33<00:00, 34.50it/s, loss=1.736]\n"
     ]
    },
    {
     "name": "stdout",
     "output_type": "stream",
     "text": [
      "Saving Model With Loss 2.18540\n",
      "Train Loss: 0.63595| Valid Loss: 2.18540| Best Loss: 2.18540\n",
      "\n"
     ]
    },
    {
     "name": "stderr",
     "output_type": "stream",
     "text": [
      "Train Epoch 21: 100%|██████████| 4643/4643 [06:19<00:00, 12.22it/s, loss=0.962]\n",
      "Valid Epoch 21: 100%|██████████| 1161/1161 [00:33<00:00, 34.64it/s, loss=2.205]\n"
     ]
    },
    {
     "name": "stdout",
     "output_type": "stream",
     "text": [
      "Train Loss: 0.58860| Valid Loss: 2.19564| Best Loss: 2.18540\n",
      "\n"
     ]
    },
    {
     "name": "stderr",
     "output_type": "stream",
     "text": [
      "Train Epoch 22: 100%|██████████| 4643/4643 [06:19<00:00, 12.23it/s, loss=0.391]\n",
      "Valid Epoch 22: 100%|██████████| 1161/1161 [00:33<00:00, 34.85it/s, loss=3.499]\n"
     ]
    },
    {
     "name": "stdout",
     "output_type": "stream",
     "text": [
      "Train Loss: 0.54824| Valid Loss: 2.19679| Best Loss: 2.18540\n",
      "\n"
     ]
    },
    {
     "name": "stderr",
     "output_type": "stream",
     "text": [
      "Train Epoch 23: 100%|██████████| 4643/4643 [06:20<00:00, 12.20it/s, loss=0.977]\n",
      "Valid Epoch 23: 100%|██████████| 1161/1161 [00:33<00:00, 34.53it/s, loss=3.007]\n"
     ]
    },
    {
     "name": "stdout",
     "output_type": "stream",
     "text": [
      "Train Loss: 0.50947| Valid Loss: 2.20367| Best Loss: 2.18540\n",
      "\n"
     ]
    },
    {
     "name": "stderr",
     "output_type": "stream",
     "text": [
      "Train Epoch 24: 100%|██████████| 4643/4643 [06:19<00:00, 12.23it/s, loss=0.613]\n",
      "Valid Epoch 24: 100%|██████████| 1161/1161 [00:33<00:00, 34.62it/s, loss=3.044]\n"
     ]
    },
    {
     "name": "stdout",
     "output_type": "stream",
     "text": [
      "Train Loss: 0.47590| Valid Loss: 2.20252| Best Loss: 2.18540\n",
      "\n"
     ]
    },
    {
     "name": "stderr",
     "output_type": "stream",
     "text": [
      "Train Epoch 25: 100%|██████████| 4643/4643 [06:20<00:00, 12.20it/s, loss=0.454]\n",
      "Valid Epoch 25: 100%|██████████| 1161/1161 [00:34<00:00, 33.98it/s, loss=1.167]\n"
     ]
    },
    {
     "name": "stdout",
     "output_type": "stream",
     "text": [
      "Train Loss: 0.44398| Valid Loss: 2.22525| Best Loss: 2.18540\n",
      "\n"
     ]
    },
    {
     "name": "stderr",
     "output_type": "stream",
     "text": [
      "Train Epoch 26: 100%|██████████| 4643/4643 [06:28<00:00, 11.96it/s, loss=0.442]\n",
      "Valid Epoch 26: 100%|██████████| 1161/1161 [00:33<00:00, 34.68it/s, loss=1.613]\n"
     ]
    },
    {
     "name": "stdout",
     "output_type": "stream",
     "text": [
      "Train Loss: 0.41771| Valid Loss: 2.22996| Best Loss: 2.18540\n",
      "\n"
     ]
    },
    {
     "name": "stderr",
     "output_type": "stream",
     "text": [
      "Train Epoch 27: 100%|██████████| 4643/4643 [06:24<00:00, 12.09it/s, loss=0.462]\n",
      "Valid Epoch 27: 100%|██████████| 1161/1161 [00:34<00:00, 33.97it/s, loss=2.869]\n"
     ]
    },
    {
     "name": "stdout",
     "output_type": "stream",
     "text": [
      "Train Loss: 0.39057| Valid Loss: 2.24900| Best Loss: 2.18540\n",
      "\n"
     ]
    },
    {
     "name": "stderr",
     "output_type": "stream",
     "text": [
      "Train Epoch 28: 100%|██████████| 4643/4643 [06:25<00:00, 12.06it/s, loss=0.445]\n",
      "Valid Epoch 28: 100%|██████████| 1161/1161 [00:34<00:00, 33.79it/s, loss=1.396]\n"
     ]
    },
    {
     "name": "stdout",
     "output_type": "stream",
     "text": [
      "Train Loss: 0.36880| Valid Loss: 2.25500| Best Loss: 2.18540\n",
      "\n"
     ]
    },
    {
     "name": "stderr",
     "output_type": "stream",
     "text": [
      "Train Epoch 29: 100%|██████████| 4643/4643 [06:25<00:00, 12.04it/s, loss=0.390]\n",
      "Valid Epoch 29: 100%|██████████| 1161/1161 [00:33<00:00, 34.50it/s, loss=0.950]\n"
     ]
    },
    {
     "name": "stdout",
     "output_type": "stream",
     "text": [
      "Train Loss: 0.34809| Valid Loss: 2.26407| Best Loss: 2.18540\n",
      "\n"
     ]
    },
    {
     "name": "stderr",
     "output_type": "stream",
     "text": [
      "Train Epoch 30: 100%|██████████| 4643/4643 [06:24<00:00, 12.06it/s, loss=0.367]\n",
      "Valid Epoch 30: 100%|██████████| 1161/1161 [00:34<00:00, 33.98it/s, loss=1.642]\n"
     ]
    },
    {
     "name": "stdout",
     "output_type": "stream",
     "text": [
      "------------------------------------\n",
      "|Model can't improve, stop training|\n",
      "------------------------------------\n"
     ]
    },
    {
     "data": {
      "image/png": "[encoded data removed]",
      "text/plain": [
       "<Figure size 640x480 with 1 Axes>"
      ]
     },
     "metadata": {},
     "output_type": "display_data"
    }
   ],
   "source": []
  },
  {
   "cell_type": "markdown",
   "metadata": {},
   "source": [
    "## 驗證模型生成結果"
   ]
  },
  {
   "cell_type": "code",
   "execution_count": 36,
   "metadata": {},
   "outputs": [
    {
     "name": "stdout",
     "output_type": "stream",
     "text": [
      "輸入文字:\n",
      " mandsaur police tuesday filed 350page chargesheet two accused eightyearold girls gangrape case chargesheet names 92 witnesses lists 100 pieces evidence accused girl allegedly kidnapped waiting family member outside school raped secluded place\n",
      "目標文字:\n",
      " 92 witnesses 100 evidences mandsaur gangrape chargesheet\n",
      "模型文字:\n",
      " [CLS] 92 witnesses 100 evidences mandsaur gangrape chargesheet [SEP]\n"
     ]
    }
   ],
   "source": [
    "model.load_state_dict(torch.load('model.ckpt'))\n",
    "model.eval()\n",
    "idx = 7778\n",
    "input_data = tokenizer(x_test[idx], max_length=1024, truncation=True, padding=\"longest\", return_tensors='pt').to(device)\n",
    "generated_ids = model.generate(**input_data, max_len=50)\n",
    "\n",
    "print('輸入文字:\\n', x_test[idx])\n",
    "print('目標文字:\\n', y_test[idx])\n",
    "print('模型文字:\\n', tokenizer.decode(generated_ids[0]))"
   ]
  },
  {
   "cell_type": "code",
   "execution_count": null,
   "metadata": {},
   "outputs": [],
   "source": []
  }
 ],
 "metadata": {
  "kernelspec": {
   "display_name": "Python 3",
   "language": "python",
   "name": "python3"
  },
  "language_info": {
   "codemirror_mode": {
    "name": "ipython",
    "version": 3
   },
   "file_extension": ".py",
   "mimetype": "text/x-python",
   "name": "python",
   "nbconvert_exporter": "python",
   "pygments_lexer": "ipython3",
   "version": "3.8.10"
  }
 },
 "nbformat": 4,
 "nbformat_minor": 2
}
